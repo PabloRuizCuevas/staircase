{
 "cells": [
  {
   "cell_type": "markdown",
   "metadata": {},
   "source": [
    "<img src=\"../img/staircase.png\" align=\"center\"/>"
   ]
  },
  {
   "cell_type": "markdown",
   "metadata": {},
   "source": [
    "<h1 style=\"font-size:600%\"><center> TUTORIAL INDEX </center></h1>"
   ]
  },
  {
   "cell_type": "markdown",
   "metadata": {},
   "source": [
    "<center><a  style=\"font-size:300%\" href=\"Staircase Basics.ipynb\">Staircase Basics</a></center>"
   ]
  },
  {
   "cell_type": "markdown",
   "metadata": {},
   "source": [
    "<center><a  style=\"font-size:300%\" href=\"Case Study Maintenance Schedule.ipynb\">Case Study: Maintenance Schedule</a></center>"
   ]
  },
  {
   "cell_type": "markdown",
   "metadata": {},
   "source": [
    "<center><a  style=\"font-size:300%\" href=\"Case Study Queue Analysis.ipynb\">Case Study: Queue Analysis</a></center>"
   ]
  },
  {
   "cell_type": "markdown",
   "metadata": {},
   "source": [
    "<center><a  style=\"font-size:300%\" href=\"Case Study Asset Utilisation\">Case Study: Asset Utilisation</a></center>"
   ]
  },
  {
   "cell_type": "markdown",
   "metadata": {},
   "source": [
    "<center><a  style=\"font-size:300%\" href=\"Case Study State Machine.ipynb\">Case Study: State Machine</a></center>"
   ]
  },
  {
   "cell_type": "markdown",
   "metadata": {},
   "source": [
    "<center><a  style=\"font-size:300%\" href=\"Case Study Hotel Stays.ipynb\">Case Study: Hotel Stays</a></center>"
   ]
  }
 ],
 "metadata": {
  "kernelspec": {
   "display_name": "Python 3",
   "language": "python",
   "name": "python3"
  },
  "language_info": {
   "codemirror_mode": {
    "name": "ipython",
    "version": 3
   },
   "file_extension": ".py",
   "mimetype": "text/x-python",
   "name": "python",
   "nbconvert_exporter": "python",
   "pygments_lexer": "ipython3",
   "version": "3.7.5"
  }
 },
 "nbformat": 4,
 "nbformat_minor": 4
}
