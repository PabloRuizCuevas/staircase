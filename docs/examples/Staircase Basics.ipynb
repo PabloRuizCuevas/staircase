{
 "cells": [
  {
   "cell_type": "markdown",
   "source": [
    "# Staircase basics\n",
    "\n",
    "Stairs is a class in the staircase package.  It is a data structure, with associated methods, for modelling and manipulating step functions.  We will often use the terms step function and Stairs instance interchangeably.  A step function is piecewise constant, that is it is composed of a sequence of intervals.  Every interval has a start, an end, and a value.  Most importantly though it is assumed that there are no gaps between intervals in the sequence.  When a Stairs instance is created it already holds one interval - this interval extends from -infinity to +infinity and its value can be specified at creation.  A Stairs instance will always hold start and end with an interval of infinite length (and these may be the same interval)."
   ],
   "metadata": {
    "Collapsed": "false"
   }
  },
  {
   "cell_type": "code",
   "execution_count": null,
   "source": [
    "import matplotlib.pyplot as plt\r\n",
    "import pandas as pd\r\n",
    "import numpy as np\r\n",
    "import staircase as sc"
   ],
   "outputs": [],
   "metadata": {
    "Collapsed": "false"
   }
  },
  {
   "cell_type": "markdown",
   "source": [
    "Let's create two Stairs instances to play with.  By default they will have one interval (-inf, inf) with a value of 0.  We can check that they are the equivalent too."
   ],
   "metadata": {
    "Collapsed": "false"
   }
  },
  {
   "cell_type": "code",
   "execution_count": null,
   "source": [
    "s1 = sc.Stairs()\r\n",
    "s2 = sc.Stairs()\r\n",
    "assert s1 == s2\r\n",
    "assert not s1 != s2"
   ],
   "outputs": [],
   "metadata": {
    "Collapsed": "false"
   }
  },
  {
   "cell_type": "markdown",
   "source": [
    "Let's now add two intervals to s1.  Each Stairs instance has a function \"layer\" which can be used to layer intervals to the existing ones.  The parameters to the function are 'start', 'end' and 'value' respectively."
   ],
   "metadata": {
    "Collapsed": "false"
   }
  },
  {
   "cell_type": "code",
   "execution_count": null,
   "source": [
    "s1.layer(1,3,2)\r\n",
    "s1.layer(6,10,1)"
   ],
   "outputs": [],
   "metadata": {
    "Collapsed": "false"
   }
  },
  {
   "cell_type": "markdown",
   "source": [
    "The initialisation of the Stairs objects, then calls to *layer* could be combined in one step (*introduced in staircase 2.0.0*).  In the cell below we recreate the two Stair instances using this method.  The parameters passed are 'init_value', 'start', 'end' and 'value' respectively. "
   ],
   "metadata": {}
  },
  {
   "cell_type": "code",
   "execution_count": null,
   "source": [
    "s1 = sc.Stairs(initial_value=0, start=1, end=3, value=2)\r\n",
    "s2 = sc.Stairs(initial_value=0, start=6, end=10, value=1)"
   ],
   "outputs": [],
   "metadata": {}
  },
  {
   "cell_type": "markdown",
   "source": [
    "The Stairs class has a plot function.  By default it will not plot the two infinite intervals which begin and end the step function.  Is the plot below what you expect it to be?"
   ],
   "metadata": {
    "Collapsed": "false"
   }
  },
  {
   "cell_type": "code",
   "execution_count": null,
   "source": [
    "s1.plot()"
   ],
   "outputs": [],
   "metadata": {
    "Collapsed": "false"
   }
  },
  {
   "cell_type": "markdown",
   "source": [
    "Let's not leave s2 out of the fun.  We'll add a couple of intervals and plot."
   ],
   "metadata": {
    "Collapsed": "false"
   }
  },
  {
   "cell_type": "code",
   "execution_count": null,
   "source": [
    "s2.layer(4,5,1)\r\n",
    "s2.layer(7,8,1)\r\n",
    "s2.plot()"
   ],
   "outputs": [],
   "metadata": {
    "Collapsed": "false"
   }
  },
  {
   "cell_type": "markdown",
   "source": [
    "The plot function can take an axes (from matplotlib) as an argument.  It will plot to this axes, allowing us to put plots for multiple Stairs instances on the one chart."
   ],
   "metadata": {
    "Collapsed": "false"
   }
  },
  {
   "cell_type": "code",
   "execution_count": null,
   "source": [
    "fig, ax = plt.subplots()\r\n",
    "s1.plot(ax=ax)\r\n",
    "s2.plot(ax=ax)\r\n",
    "plt.show()"
   ],
   "outputs": [],
   "metadata": {
    "Collapsed": "false"
   }
  },
  {
   "cell_type": "markdown",
   "source": [
    "Some of the details are getting lost in the above chart.  The plot function can also take a dictionary of keyword arguments that are typically used with matplotlib's [Line2D:](https://matplotlib.org/api/_as_gen/matplotlib.lines.Line2D.html)"
   ],
   "metadata": {
    "Collapsed": "false"
   }
  },
  {
   "cell_type": "code",
   "execution_count": null,
   "source": [
    "fig, ax = plt.subplots()\r\n",
    "s1.plot(ax=ax, label=\"s1\")\r\n",
    "s2.plot(ax=ax, label = \"s2\", linestyle=\"--\", linewidth=3)\r\n",
    "ax.legend()\r\n",
    "plt.show()"
   ],
   "outputs": [],
   "metadata": {
    "Collapsed": "false"
   }
  },
  {
   "cell_type": "markdown",
   "source": [
    "As much fun as plotting step functions is, the main purpose of the Stairs class is to provide an arithmetic with these structures, so that we can add, subtract, take minimums, maximums and means etc.  Below the maximum is calculated between s1 and s2 and is plotted.  Is the plot what you expect?"
   ],
   "metadata": {
    "Collapsed": "false"
   }
  },
  {
   "cell_type": "code",
   "execution_count": null,
   "source": [
    "max_s1_s2 = sc.max([s1, s2])\r\n",
    "max_s1_s2.plot()"
   ],
   "outputs": [],
   "metadata": {
    "Collapsed": "false"
   }
  },
  {
   "cell_type": "markdown",
   "source": [
    "We can add Stairs instances"
   ],
   "metadata": {
    "Collapsed": "false"
   }
  },
  {
   "cell_type": "code",
   "execution_count": null,
   "source": [
    "(s1 + s2).plot()"
   ],
   "outputs": [],
   "metadata": {
    "Collapsed": "false"
   }
  },
  {
   "cell_type": "markdown",
   "source": [
    "We can subtract Stairs instances"
   ],
   "metadata": {
    "Collapsed": "false"
   }
  },
  {
   "cell_type": "code",
   "execution_count": null,
   "source": [
    "(s1 - s2).plot()"
   ],
   "outputs": [],
   "metadata": {
    "Collapsed": "false"
   }
  },
  {
   "cell_type": "markdown",
   "source": [
    "We can invert Stairs instances"
   ],
   "metadata": {
    "Collapsed": "false"
   }
  },
  {
   "cell_type": "code",
   "execution_count": null,
   "source": [
    "(-max_s1_s2).plot()"
   ],
   "outputs": [],
   "metadata": {
    "Collapsed": "false"
   }
  },
  {
   "cell_type": "markdown",
   "source": [
    "In the below example we initialise a Stairs instance to extend from -inf to +inf with a value of 5, from which we subtract our max_is Stairs instance."
   ],
   "metadata": {
    "Collapsed": "false"
   }
  },
  {
   "cell_type": "code",
   "execution_count": null,
   "source": [
    "(sc.Stairs(initial_value=5) - max_s1_s2).plot()"
   ],
   "outputs": [],
   "metadata": {
    "Collapsed": "false"
   }
  },
  {
   "cell_type": "markdown",
   "source": [
    "In the next example we want to see where our max_is Stairs instance is greater than 1.5 in value.  Note that whenever we do comparisons, the result will always be a sequence of binary-valued intervals."
   ],
   "metadata": {
    "Collapsed": "false"
   }
  },
  {
   "cell_type": "code",
   "execution_count": null,
   "source": [
    "fig = plt.figure(figsize=(15, 4))\r\n",
    "\r\n",
    "ax = fig.add_subplot(1,2,1)\r\n",
    "ax.set_title(\"max_s1_s2\")\r\n",
    "max_s1_s2.plot(ax=ax)\r\n",
    "\r\n",
    "ax = fig.add_subplot(1,2,2)\r\n",
    "ax.set_title(\"max_s1_s2 > 1.5\")\r\n",
    "(max_s1_s2 > 1.5).plot(ax=ax)"
   ],
   "outputs": [],
   "metadata": {
    "Collapsed": "false"
   }
  },
  {
   "cell_type": "markdown",
   "source": [
    "The below example is similar to the above but we are using less than, rather than greater than.  You should expect that the result is the binary (i.e. boolean) opposite of the above result.  Remember that infinite-length intervals are not plotted, so in the chart on the right, there are intervals (-inf, 1) and (3, inf) which have a value of 1."
   ],
   "metadata": {
    "Collapsed": "false"
   }
  },
  {
   "cell_type": "code",
   "execution_count": null,
   "source": [
    "fig = plt.figure(figsize=(15, 4))\r\n",
    "\r\n",
    "ax = fig.add_subplot(1,2,1)\r\n",
    "ax.set_title(\"max_s1_s2\")\r\n",
    "max_s1_s2.plot(ax=ax)\r\n",
    "\r\n",
    "ax = fig.add_subplot(1,2,2)\r\n",
    "ax.set_title(\"max_s1_s2 < 1.5\")\r\n",
    "(max_s1_s2 < 1.5).plot(ax=ax)"
   ],
   "outputs": [],
   "metadata": {
    "Collapsed": "false"
   }
  },
  {
   "cell_type": "markdown",
   "source": [
    "Although the above-right chart is correct, it can be easy to forget that about the infinite-length start and end intervals in the sequence.  We can call the clip function, which sets the value of the Stairs instance, outside the range specified in the parameters to zero.  This can make the resulting plot a little more easier to understand."
   ],
   "metadata": {
    "Collapsed": "false"
   }
  },
  {
   "cell_type": "code",
   "execution_count": null,
   "source": [
    "(max_s1_s2 < 1.5).clip(-20,20).plot()"
   ],
   "outputs": [],
   "metadata": {
    "Collapsed": "false"
   }
  },
  {
   "cell_type": "markdown",
   "source": [
    "Additionally, we can combine the above approach with setting the x-axis limits, to get an even nicer solution"
   ],
   "metadata": {
    "Collapsed": "false"
   }
  },
  {
   "cell_type": "code",
   "execution_count": null,
   "source": [
    "fig, ax = plt.subplots()\r\n",
    "(max_s1_s2 < 1.5).clip(-100,100).plot(ax=ax)\r\n",
    "ax.set_xlim(0,11)\r\n",
    "plt.show()"
   ],
   "outputs": [],
   "metadata": {
    "Collapsed": "false"
   }
  },
  {
   "cell_type": "markdown",
   "source": [
    "The Stairs class also has a function for finding the area under the graph: integrate().  Note that it does not calculate absolute values, so a step function consisting of negative values will result in a negative area.  Negative areas and positive areas can cancel each other out.  Check that you agree with the calculation below?"
   ],
   "metadata": {
    "Collapsed": "false"
   }
  },
  {
   "cell_type": "code",
   "execution_count": null,
   "source": [
    "s1.plot()\r\n",
    "print(f'The area under s1 is {s1.integrate()}')"
   ],
   "outputs": [],
   "metadata": {
    "Collapsed": "false"
   }
  },
  {
   "cell_type": "markdown",
   "source": [
    "**We can also restrict the range in which the IntervalSequence is integrated.  Check that you agree with the calculation below, where we restrict the calculation to be between 2.5 and 3."
   ],
   "metadata": {
    "Collapsed": "false"
   }
  },
  {
   "cell_type": "code",
   "execution_count": null,
   "source": [
    "s1.integrate((2.5,3))"
   ],
   "outputs": [],
   "metadata": {
    "Collapsed": "false"
   }
  },
  {
   "cell_type": "markdown",
   "source": [
    "We can also use the mean function to calculate the average value.  If the Stairs instance represents the utilisation of some thing over time, then the mean function can be used to calculate the average utilisation."
   ],
   "metadata": {
    "Collapsed": "false"
   }
  },
  {
   "cell_type": "code",
   "execution_count": null,
   "source": [
    "s1.mean()"
   ],
   "outputs": [],
   "metadata": {
    "Collapsed": "false"
   }
  },
  {
   "cell_type": "markdown",
   "source": [
    "It is important to note that by default infinite-length intervals will not be included in the calculation.  In the above example, the non-infinite length intervals occur in the range (1,10), so the mean will be calculated over this range by default.  If we wanted to force the calculation over a particular range, eg. (0,10) then we can do this by supplying parameters to the mean function."
   ],
   "metadata": {
    "Collapsed": "false"
   }
  },
  {
   "cell_type": "code",
   "execution_count": null,
   "source": [
    "s1.mean((0,10))"
   ],
   "outputs": [],
   "metadata": {
    "Collapsed": "false"
   }
  },
  {
   "cell_type": "markdown",
   "source": [
    "If you would like to see the intervals of a Stairs instance expressed in a DataFrame then this is available"
   ],
   "metadata": {
    "Collapsed": "false"
   }
  },
  {
   "cell_type": "code",
   "execution_count": null,
   "source": [
    "s1.plot()\r\n",
    "s1.to_frame()"
   ],
   "outputs": [],
   "metadata": {
    "Collapsed": "false"
   }
  },
  {
   "cell_type": "markdown",
   "source": [
    "Under the hood the Stairs class is built upon a Sorted Dictionary - a dictionary where the keys, are always ordered in ascending order.  The initial key should always be -inf and the corresponding value should be the value of the first interval (which always begins at -inf).  The rest of the keys in the Sorted Dictionary represent the start/end points of the intervals and the values represent the change at that point.  Does the following make sense?"
   ],
   "metadata": {
    "Collapsed": "false"
   }
  },
  {
   "cell_type": "code",
   "execution_count": null,
   "source": [
    "s1"
   ],
   "outputs": [],
   "metadata": {
    "Collapsed": "false"
   }
  },
  {
   "cell_type": "markdown",
   "source": [
    "Returning to equality comparisons, let's look at what is returned in the below example where we compare two calculations which should be equal:"
   ],
   "metadata": {
    "Collapsed": "false"
   }
  },
  {
   "cell_type": "code",
   "execution_count": null,
   "source": [
    "sc.Stairs(initial_value=2) - s1 == -s1 + sc.Stairs(initial_value=2)"
   ],
   "outputs": [],
   "metadata": {
    "Collapsed": "false"
   }
  },
  {
   "cell_type": "markdown",
   "source": [
    "The result was itself a Stairs instance, which contains just one interval: (-inf, inf) with a value of 1.  This Stairs instance is special in that it evaluates to True when interpreted as a bool:"
   ],
   "metadata": {
    "Collapsed": "false"
   }
  },
  {
   "cell_type": "code",
   "execution_count": null,
   "source": [
    "bool(sc.Stairs(initial_value=2) - s1 == -s1 + sc.Stairs(initial_value=2))"
   ],
   "outputs": [],
   "metadata": {
    "Collapsed": "false"
   }
  },
  {
   "cell_type": "markdown",
   "source": [
    "This is why we can use these comparisons as conditions:"
   ],
   "metadata": {
    "Collapsed": "false"
   }
  },
  {
   "cell_type": "code",
   "execution_count": null,
   "source": [
    "if sc.Stairs(initial_value=2) - s1 == -s1 + sc.Stairs(initial_value=2):\r\n",
    "    print(\"They are the same\")\r\n",
    "else:\r\n",
    "    print(\"They are not the same\")"
   ],
   "outputs": [],
   "metadata": {
    "Collapsed": "false"
   }
  },
  {
   "cell_type": "markdown",
   "source": [
    "There is a function belonging to the Stairs class called make_boolean.  Calling this function returns a Stairs instance where the values of the intervals are 0 if and only if the values of the original intervals were zero.  This approach is consistent with the approach used for floats:"
   ],
   "metadata": {
    "Collapsed": "false"
   }
  },
  {
   "cell_type": "code",
   "execution_count": null,
   "source": [
    "print(bool(0.3))\r\n",
    "print(bool(1.3))\r\n",
    "print(bool(-1))\r\n",
    "print(bool(-0.3))\r\n",
    "print(bool(0))"
   ],
   "outputs": [],
   "metadata": {
    "Collapsed": "false"
   }
  },
  {
   "cell_type": "markdown",
   "source": [
    "make_boolean() may not have many explicit uses but is used internally frequently.  The following example illustrates its effect."
   ],
   "metadata": {
    "Collapsed": "false"
   }
  },
  {
   "cell_type": "code",
   "execution_count": null,
   "source": [
    "fig = plt.figure(figsize=(15, 4))\r\n",
    "\r\n",
    "ax = fig.add_subplot(1,2,1)\r\n",
    "ax.set_title(\"s1\")\r\n",
    "s1.plot(ax=ax)\r\n",
    "\r\n",
    "ax = fig.add_subplot(1,2,2)\r\n",
    "ax.set_title(\"s1.make_boolean()\")\r\n",
    "s1.make_boolean().plot(ax=ax)"
   ],
   "outputs": [],
   "metadata": {
    "Collapsed": "false"
   }
  },
  {
   "cell_type": "markdown",
   "source": [
    "The implementation of 'logical and' and 'logical or' (& and | respectively) are some of the mechanisms which leverage the make_boolean function"
   ],
   "metadata": {
    "Collapsed": "false"
   }
  },
  {
   "cell_type": "code",
   "execution_count": null,
   "source": [
    "fig = plt.figure(figsize=(15, 4))\r\n",
    "\r\n",
    "ax = fig.add_subplot(1,3,1)\r\n",
    "ax.set_title(\"s1\")\r\n",
    "ax.set_xlim(0,10)\r\n",
    "s1.plot(ax=ax)\r\n",
    "\r\n",
    "ax = fig.add_subplot(1,3,2)\r\n",
    "ax.set_title(\"s2\")\r\n",
    "ax.set_xlim(0,10)\r\n",
    "s2.plot(ax=ax)\r\n",
    "\r\n",
    "ax = fig.add_subplot(1,3,3)\r\n",
    "ax.set_title(\"s1 & s2\")\r\n",
    "ax.set_xlim(0,10)\r\n",
    "(s1 & s2).plot(ax=ax)"
   ],
   "outputs": [],
   "metadata": {
    "Collapsed": "false"
   }
  },
  {
   "cell_type": "code",
   "execution_count": null,
   "source": [
    "fig = plt.figure(figsize=(15, 4))\r\n",
    "\r\n",
    "ax = fig.add_subplot(1,3,1)\r\n",
    "ax.set_title(\"s1\")\r\n",
    "ax.set_xlim(0,10)\r\n",
    "s1.plot(ax=ax)\r\n",
    "\r\n",
    "ax = fig.add_subplot(1,3,2)\r\n",
    "ax.set_title(\"s2\")\r\n",
    "ax.set_xlim(0,10)\r\n",
    "s2.plot(ax=ax)\r\n",
    "\r\n",
    "ax = fig.add_subplot(1,3,3)\r\n",
    "ax.set_title(\"s1 | s2\")\r\n",
    "ax.set_xlim(0,10)\r\n",
    "(s1 | s2).plot(ax=ax)"
   ],
   "outputs": [],
   "metadata": {
    "Collapsed": "false"
   }
  },
  {
   "cell_type": "markdown",
   "source": [
    "Lastly the ~ operator can be used to negate the make_boolean() result:"
   ],
   "metadata": {
    "Collapsed": "false"
   }
  },
  {
   "cell_type": "code",
   "execution_count": null,
   "source": [
    "ax=fig = plt.figure(figsize=(15, 4))\r\n",
    "\r\n",
    "ax = fig.add_subplot(1,3,1)\r\n",
    "ax.set_title(\"s1\")\r\n",
    "s1.plot(ax=ax)\r\n",
    "\r\n",
    "ax = fig.add_subplot(1,3,2)\r\n",
    "ax.set_title(\"s1.make_boolean()\")\r\n",
    "s1.make_boolean().plot(ax=ax)\r\n",
    "\r\n",
    "ax = fig.add_subplot(1,3,3)\r\n",
    "ax.set_title(\"~s1\")\r\n",
    "(~s1).plot(ax=ax)"
   ],
   "outputs": [],
   "metadata": {
    "Collapsed": "false"
   }
  }
 ],
 "metadata": {
  "kernelspec": {
   "display_name": "Python 3",
   "language": "python",
   "name": "python3"
  },
  "language_info": {
   "codemirror_mode": {
    "name": "ipython",
    "version": 3
   },
   "file_extension": ".py",
   "mimetype": "text/x-python",
   "name": "python",
   "nbconvert_exporter": "python",
   "pygments_lexer": "ipython3",
   "version": "3.7.5"
  }
 },
 "nbformat": 4,
 "nbformat_minor": 4
}