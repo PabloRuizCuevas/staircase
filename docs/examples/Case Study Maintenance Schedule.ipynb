{
 "cells": [
  {
   "cell_type": "markdown",
   "source": [
    "# Case study: maintenance schedule\n",
    "\n",
    "This case study illustrates the use of the staircase package to create the union of intervals, to remove overlaps between them.  In this example we have an asset composed of several components, named A, B, C, D and E. Each of these components can undergo multiple periods of maintenance, as specified in a maintenance schedule  If any component is under maintenance then the entire asset is considered under maintenance.  The problem is essentially to create the union of the intervals specified in the maintenance schedule.\n",
    "\n",
    "The data used is this case study is synthetic and fictional.  Both data and the notebook for this tutorial can be obtained from the [github site](https://github.com/venaturum/staircase/tree/master/docs/examples)."
   ],
   "metadata": {}
  },
  {
   "cell_type": "code",
   "execution_count": null,
   "source": [
    "import pandas as pd\r\n",
    "import staircase as sc\r\n",
    "import matplotlib.pyplot as plt"
   ],
   "outputs": [],
   "metadata": {}
  },
  {
   "cell_type": "markdown",
   "source": [
    "We begin by importing the maintenance schedule data into a pandas.DataFrame instance.  Each row corresponds to a period of maintenance for a component.  The first column identifies the component and the second and third columns indicate the start and end points of each maintenance period."
   ],
   "metadata": {}
  },
  {
   "cell_type": "code",
   "execution_count": null,
   "source": [
    "data = pd.read_csv(\"./data/maintenance_schedule.csv\", parse_dates=['start', 'end'], dayfirst=True)\r\n",
    "data"
   ],
   "outputs": [],
   "metadata": {}
  },
  {
   "cell_type": "markdown",
   "source": [
    "We'll start by creating a Stairs object to model the number of components under maintenance at any point in time as a step function."
   ],
   "metadata": {}
  },
  {
   "cell_type": "code",
   "execution_count": null,
   "source": [
    "components_under_maintenance = sc.Stairs(data, \"start\", \"end\")\r\n",
    "components_under_maintenance.plot()"
   ],
   "outputs": [],
   "metadata": {}
  },
  {
   "cell_type": "markdown",
   "source": [
    "The default plot size is a bit too small so let's create a bigger axes and pass it to the plot method."
   ],
   "metadata": {}
  },
  {
   "cell_type": "code",
   "execution_count": null,
   "source": [
    "fig, ax = plt.subplots(figsize=(20,3))\r\n",
    "components_under_maintenance.plot(ax=ax)"
   ],
   "outputs": [],
   "metadata": {}
  },
  {
   "cell_type": "markdown",
   "source": [
    "Our asset will be under maintenance whenever this step function is non-zero.  There are several ways this can be achieved.  Each option below returns a staircase.Stairs instance:\n",
    "\n",
    "- asset_under_maintenance = components_under_maintenance > 0\n",
    "- asset_under_maintenance = components_under_maintenance != 0\n",
    "- asset_under_maintenance = ~(components_under_maintenance == 0)\n",
    "- asset_under_maintenance = components_under_maintenance >= 1\n",
    "- asset_under_maintenance = components_under_maintenance.make_boolean()\n",
    "\n",
    "Let's use the first option and plot it together with the first step function:"
   ],
   "metadata": {}
  },
  {
   "cell_type": "code",
   "execution_count": null,
   "source": [
    "asset_under_maintenance = components_under_maintenance > 0\r\n",
    "\r\n",
    "fig, ax = plt.subplots(figsize=(20,3))\r\n",
    "components_under_maintenance.plot(ax=ax)\r\n",
    "asset_under_maintenance.plot(ax=ax)"
   ],
   "outputs": [],
   "metadata": {}
  },
  {
   "cell_type": "markdown",
   "source": [
    "Next we want to extract this interval data from our new step function.  One way is to use the step_changes() method to get the points at which the function changes value:"
   ],
   "metadata": {}
  },
  {
   "cell_type": "code",
   "execution_count": null,
   "source": [
    "asset_under_maintenance.step_changes"
   ],
   "outputs": [],
   "metadata": {}
  },
  {
   "cell_type": "markdown",
   "source": [
    "However a better way to extract the data would be to use the to_dataframe method:"
   ],
   "metadata": {}
  },
  {
   "cell_type": "code",
   "execution_count": null,
   "source": [
    "asset_under_maintenance.to_frame()"
   ],
   "outputs": [],
   "metadata": {}
  },
  {
   "cell_type": "markdown",
   "source": [
    "Lastly we can filter the rows to only include those parts of the function which are equal to one, and drop the value column.  We can then write the dataframe to csv if necessary."
   ],
   "metadata": {}
  },
  {
   "cell_type": "code",
   "execution_count": null,
   "source": [
    "asset_under_maintenance.to_frame().query('value == 1').drop(columns='value')"
   ],
   "outputs": [],
   "metadata": {}
  }
 ],
 "metadata": {
  "kernelspec": {
   "name": "python3",
   "display_name": "Python 3.7.5 64-bit ('staircase-wN5-eePl-py3.7': venv)"
  },
  "language_info": {
   "codemirror_mode": {
    "name": "ipython",
    "version": 3
   },
   "file_extension": ".py",
   "mimetype": "text/x-python",
   "name": "python",
   "nbconvert_exporter": "python",
   "pygments_lexer": "ipython3",
   "version": "3.7.5"
  },
  "interpreter": {
   "hash": "6bf60174825840c504a5bcdeb584041e234e81e834f20bf858721befc2e0bedf"
  }
 },
 "nbformat": 4,
 "nbformat_minor": 4
}