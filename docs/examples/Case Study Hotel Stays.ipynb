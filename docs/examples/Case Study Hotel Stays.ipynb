{
 "cells": [
  {
   "cell_type": "markdown",
   "metadata": {},
   "source": [
    "# Case Study: Hotel Stays\n",
    "\n",
    "**This case study illustrates the use of the staircase package to analyse data pertaining to bookings at a hotel.  The data is adapted from the [Hotel Booking Demand dataset](https://www.kaggle.com/jessemostipak/hotel-booking-demand) available on Kaggle.**"
   ]
  },
  {
   "cell_type": "code",
   "execution_count": null,
   "metadata": {
    "Collapsed": "false"
   },
   "outputs": [],
   "source": [
    "import pandas as pd\n",
    "import matplotlib.pyplot as plt\n",
    "import matplotlib.ticker as ticker\n",
    "from pandas.plotting import register_matplotlib_converters\n",
    "register_matplotlib_converters()\n",
    "import seaborn as sns\n",
    "\n",
    "import staircase as sc"
   ]
  },
  {
   "cell_type": "markdown",
   "metadata": {
    "Collapsed": "false"
   },
   "source": [
    "**We begin by importing the data using the [pandas](https://pandas.pydata.org/) library, and take the opportunity to specify which columns of the resulting dataframe should be interpreted as dates, and which should be interpreted as categorical.**"
   ]
  },
  {
   "cell_type": "code",
   "execution_count": null,
   "metadata": {
    "Collapsed": "false"
   },
   "outputs": [],
   "source": [
    "data = pd.read_csv('./data/hotel_stays.csv', parse_dates=[\"check_in\", \"check_out\"], dtype={\"reserved_room_type\":\"category\", \"assigned_room_type\":\"category\"})\n",
    "data"
   ]
  },
  {
   "cell_type": "markdown",
   "metadata": {},
   "source": [
    "**We will be interested in performing some analysis based on assigned room types.  The following code produces a pandas.Series instance, indexed by the various room types.  The values of this series are staircase.Stairs instances, each representing the number of rooms occupied over time.**"
   ]
  },
  {
   "cell_type": "code",
   "execution_count": null,
   "metadata": {
    "Collapsed": "false"
   },
   "outputs": [],
   "source": [
    "assigned_room_type_stairs = data.groupby([\"assigned_room_type\"]).apply(lambda df: sc.Stairs(use_dates=True).layer(df.check_in, df.check_out))\n",
    "assigned_room_type_stairs"
   ]
  },
  {
   "cell_type": "markdown",
   "metadata": {
    "Collapsed": "false"
   },
   "source": [
    "**It will be useful to keep a reference of the possible room types which can be assigned..**"
   ]
  },
  {
   "cell_type": "code",
   "execution_count": null,
   "metadata": {
    "Collapsed": "false"
   },
   "outputs": [],
   "source": [
    "assigned_room_types = list(assigned_room_type_stairs.index)\n",
    "assigned_room_types"
   ]
  },
  {
   "cell_type": "markdown",
   "metadata": {
    "Collapsed": "false"
   },
   "source": [
    "## How many rooms assigned over the course of the year?"
   ]
  },
  {
   "cell_type": "markdown",
   "metadata": {},
   "source": [
    "**Let's start by looking at how many rooms, in total, were occupied over time.  The arithmetic operators that belong to the Stairs class are automatically applied when calling their counterparts belonging to the pandas.Series class.  For example the code block below adds the Stairs instances for each room type together, to produce a single Stairs instance representing total rooms.**"
   ]
  },
  {
   "cell_type": "code",
   "execution_count": null,
   "metadata": {
    "Collapsed": "false"
   },
   "outputs": [],
   "source": [
    "all_assigned_stairs = assigned_room_type_stairs.sum()\n",
    "all_assigned_stairs"
   ]
  },
  {
   "cell_type": "markdown",
   "metadata": {},
   "source": [
    "**We can make a simple plot to get a quick feel for how the total bookings vary over the course of the year.  Plotting with the staircase package is compatible with the [matplotlib](https://matplotlib.org/) library (and therefore also [seaborn](https://seaborn.pydata.org/) which is built upon matplotlib).** "
   ]
  },
  {
   "cell_type": "code",
   "execution_count": null,
   "metadata": {
    "Collapsed": "false"
   },
   "outputs": [],
   "source": [
    "fig, ax = plt.subplots(figsize=(15,8))\n",
    "all_assigned_stairs.plot(ax)\n",
    "ax.set_xlim(pd.to_datetime('2016'), pd.to_datetime('2017'));"
   ]
  },
  {
   "cell_type": "markdown",
   "metadata": {
    "Collapsed": "false"
   },
   "source": [
    "**A visual inspection of the graph suggests the hotel probably has approximately 180 rooms.  We can check the actual maximum simulteanous bookings observed with the Stairs.max function.**"
   ]
  },
  {
   "cell_type": "code",
   "execution_count": null,
   "metadata": {
    "Collapsed": "false"
   },
   "outputs": [],
   "source": [
    "all_assigned_stairs.max()"
   ]
  },
  {
   "cell_type": "code",
   "execution_count": null,
   "metadata": {},
   "outputs": [],
   "source": [
    "midnights_2016 = pd.date_range('2016-01-01', '2016-12-31')\n",
    "all_assigned_midnight = all_assigned_stairs.resample(midnights_2016)"
   ]
  },
  {
   "cell_type": "code",
   "execution_count": null,
   "metadata": {},
   "outputs": [],
   "source": [
    "fig, ax = plt.subplots(figsize=(15,8))\n",
    "all_assigned_stairs.plot(ax)\n",
    "all_assigned_midnight.plot(ax=ax);"
   ]
  },
  {
   "cell_type": "code",
   "execution_count": null,
   "metadata": {
    "Collapsed": "false"
   },
   "outputs": [],
   "source": [
    "midnights_2016 = pd.date_range('2016-01-01', '2016-12-31')\n",
    "all_assigned_midnight = pd.Series(all_assigned_stairs(midnights_2016), index=midnights_2016)"
   ]
  },
  {
   "cell_type": "code",
   "execution_count": null,
   "metadata": {
    "Collapsed": "false"
   },
   "outputs": [],
   "source": [
    "fig, ax = plt.subplots(figsize=(15,8))\n",
    "all_assigned_stairs.plot(ax)\n",
    "all_assigned_midnight.plot(ax=ax)"
   ]
  },
  {
   "cell_type": "markdown",
   "metadata": {
    "Collapsed": "false"
   },
   "source": [
    "7 day average"
   ]
  },
  {
   "cell_type": "code",
   "execution_count": null,
   "metadata": {
    "Collapsed": "false"
   },
   "outputs": [],
   "source": [
    "fig, ax = plt.subplots(figsize=(15,8))\n",
    "all_assigned_stairs.plot(ax)\n",
    "all_assigned_midnight.rolling(7,center=True).mean().plot(ax=ax, linewidth=3)"
   ]
  },
  {
   "cell_type": "code",
   "execution_count": null,
   "metadata": {
    "Collapsed": "false"
   },
   "outputs": [],
   "source": [
    "fig, ax = plt.subplots(figsize=(15,8))\n",
    "for room_type in assigned_room_types:\n",
    "    assigned_room_type_stairs[room_type].plot(ax, label=room_type)\n",
    "ax.legend()"
   ]
  },
  {
   "cell_type": "code",
   "execution_count": null,
   "metadata": {
    "Collapsed": "false"
   },
   "outputs": [],
   "source": [
    "sc.sample(assigned_room_type_stairs, midnights_2016)"
   ]
  },
  {
   "cell_type": "code",
   "execution_count": null,
   "metadata": {
    "Collapsed": "false"
   },
   "outputs": [],
   "source": [
    "fig, ax = plt.subplots(figsize=(15,8))\n",
    "sns.lineplot(data=sc.sample(assigned_room_type_stairs, midnights_2016), x=\"points\", y=\"value\", hue=\"key\", ax=ax)"
   ]
  },
  {
   "cell_type": "code",
   "execution_count": null,
   "metadata": {
    "Collapsed": "false"
   },
   "outputs": [],
   "source": []
  },
  {
   "cell_type": "markdown",
   "metadata": {
    "Collapsed": "false"
   },
   "source": [
    "DISCUSSION"
   ]
  },
  {
   "cell_type": "markdown",
   "metadata": {
    "Collapsed": "false"
   },
   "source": [
    "## How many people over the course of the year?"
   ]
  },
  {
   "cell_type": "code",
   "execution_count": null,
   "metadata": {
    "Collapsed": "false"
   },
   "outputs": [],
   "source": [
    "people_room_type_stairs = data.groupby([\"assigned_room_type\"]).apply(lambda df: sc.Stairs(use_dates=True).layer(df.check_in, df.check_out, df.adults+df.children))\n",
    "people_stairs = people_room_type_stairs.sum()\n",
    "people_midnight = pd.Series(people_stairs(midnights_2016), index=midnights_2016)"
   ]
  },
  {
   "cell_type": "code",
   "execution_count": null,
   "metadata": {
    "Collapsed": "false"
   },
   "outputs": [],
   "source": [
    "fig, ax = plt.subplots(figsize=(15,8))\n",
    "people_stairs.plot(ax)\n",
    "people_midnight.rolling(7,center=True).mean().plot(ax=ax, linewidth=3)"
   ]
  },
  {
   "cell_type": "code",
   "execution_count": null,
   "metadata": {
    "Collapsed": "false"
   },
   "outputs": [],
   "source": [
    "print(people_midnight.mean())\n",
    "print(all_assigned_midnight.mean())\n",
    "print(people_midnight.mean()/all_assigned_midnight.mean())"
   ]
  },
  {
   "cell_type": "code",
   "execution_count": null,
   "metadata": {
    "Collapsed": "false"
   },
   "outputs": [],
   "source": [
    "print(people_stairs.mean(pd.to_datetime('2016-01-01'), pd.to_datetime('2017-1-1')))\n",
    "print(people_stairs.mean(pd.to_datetime('2016-01-01'), pd.to_datetime('2017-1-1'))/all_assigned_midnight.mean())"
   ]
  },
  {
   "cell_type": "code",
   "execution_count": null,
   "metadata": {
    "Collapsed": "false"
   },
   "outputs": [],
   "source": [
    "fig, ax = plt.subplots(figsize=(15,8))\n",
    "sns.lineplot(data=sc.sample(people_room_type_stairs, midnights_2016), x=\"points\", y=\"value\", hue=\"key\", ax=ax)"
   ]
  },
  {
   "cell_type": "code",
   "execution_count": null,
   "metadata": {
    "Collapsed": "false"
   },
   "outputs": [],
   "source": [
    "people_per_room_type_stairs = (people_room_type_stairs/(assigned_room_type_stairs + sc.Stairs(0.00001, use_dates=True)))"
   ]
  },
  {
   "cell_type": "code",
   "execution_count": null,
   "metadata": {
    "Collapsed": "false"
   },
   "outputs": [],
   "source": [
    "for room_type in people_per_room_type_stairs.index:\n",
    "    fig, ax = plt.subplots(figsize=(20,8))\n",
    "    people_per_room_type_stairs[room_type].plot(ax, label=room_type)\n",
    "    ax.legend()"
   ]
  },
  {
   "cell_type": "markdown",
   "metadata": {
    "Collapsed": "false"
   },
   "source": [
    "## How often were people upgraded from room type A to room type B?"
   ]
  },
  {
   "cell_type": "code",
   "execution_count": null,
   "metadata": {
    "Collapsed": "false"
   },
   "outputs": [],
   "source": [
    "reserved_room_type_stairs = data.groupby([\"reserved_room_type\"]).apply(lambda df: sc.Stairs(use_dates=True).layer(df.check_in, df.check_out))\n",
    "reserved_room_types = list(reserved_room_type_stairs.index)\n",
    "reserved_room_types"
   ]
  },
  {
   "cell_type": "code",
   "execution_count": null,
   "metadata": {
    "Collapsed": "false"
   },
   "outputs": [],
   "source": [
    "reserved_vs_assigned = reserved_room_type_stairs - assigned_room_type_stairs[reserved_room_type_stairs.index]"
   ]
  },
  {
   "cell_type": "code",
   "execution_count": null,
   "metadata": {
    "Collapsed": "false"
   },
   "outputs": [],
   "source": [
    "fig, ax = plt.subplots(figsize=(15,8))\n",
    "sns.lineplot(data=sc.sample(reserved_vs_assigned, midnights_2016), x=\"points\", y=\"value\", hue=\"key\", ax=ax)"
   ]
  },
  {
   "cell_type": "code",
   "execution_count": null,
   "metadata": {
    "Collapsed": "false"
   },
   "outputs": [],
   "source": [
    "reserved_vs_assigned_frac = assigned_room_type_stairs[reserved_room_type_stairs.index]/(reserved_room_type_stairs + sc.Stairs(0.0001, use_dates=True))\n",
    "fig, ax = plt.subplots(figsize=(15,8))\n",
    "ax.plot(midnights_2016, reserved_vs_assigned_frac['A'](midnights_2016))"
   ]
  },
  {
   "cell_type": "markdown",
   "metadata": {
    "Collapsed": "false"
   },
   "source": [
    "## What percentage of rooms are booked for just one night (over time)?"
   ]
  },
  {
   "cell_type": "code",
   "execution_count": null,
   "metadata": {
    "Collapsed": "false"
   },
   "outputs": [],
   "source": [
    "data"
   ]
  },
  {
   "cell_type": "code",
   "execution_count": null,
   "metadata": {
    "Collapsed": "false"
   },
   "outputs": [],
   "source": [
    "one_night_condition = (data.check_out.dt.date - data.check_in.dt.date == '1d')\n",
    "assigned_room_type_one_night_stairs = data[one_night_condition].groupby([\"assigned_room_type\"]).apply(lambda df: sc.Stairs(use_dates=True).layer(df.check_in, df.check_out))"
   ]
  },
  {
   "cell_type": "code",
   "execution_count": null,
   "metadata": {
    "Collapsed": "false"
   },
   "outputs": [],
   "source": [
    "one_night_frac_stairs = assigned_room_type_one_night_stairs/(assigned_room_type_stairs + sc.Stairs(0.0001, use_dates=True))"
   ]
  },
  {
   "cell_type": "code",
   "execution_count": null,
   "metadata": {
    "Collapsed": "false"
   },
   "outputs": [],
   "source": [
    "for room_type, s in one_night_frac_stairs.iteritems():\n",
    "    fig, ax = plt.subplots(figsize=(20,8))\n",
    "    s.plot(ax, label=room_type)\n",
    "    ax.legend()"
   ]
  },
  {
   "cell_type": "code",
   "execution_count": null,
   "metadata": {
    "Collapsed": "false"
   },
   "outputs": [],
   "source": [
    "sc.sample(one_night_frac_stairs, midnights_2016).groupby('key').mean()"
   ]
  },
  {
   "cell_type": "code",
   "execution_count": null,
   "metadata": {
    "Collapsed": "false"
   },
   "outputs": [],
   "source": []
  }
 ],
 "metadata": {
  "kernelspec": {
   "display_name": "Python 3",
   "language": "python",
   "name": "python3"
  },
  "language_info": {
   "codemirror_mode": {
    "name": "ipython",
    "version": 3
   },
   "file_extension": ".py",
   "mimetype": "text/x-python",
   "name": "python",
   "nbconvert_exporter": "python",
   "pygments_lexer": "ipython3",
   "version": "3.7.4"
  }
 },
 "nbformat": 4,
 "nbformat_minor": 4
}
