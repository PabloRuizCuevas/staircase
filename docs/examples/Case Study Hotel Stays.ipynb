{
 "cells": [
  {
   "cell_type": "markdown",
   "source": [
    "# Case study: hotel stays\n",
    "\n",
    "This case study illustrates the use of the staircase package to analyse data pertaining to bookings at a hotel.  The data is adapted from the [Hotel Booking Demand dataset](https://www.kaggle.com/jessemostipak/hotel-booking-demand) available on Kaggle."
   ],
   "metadata": {
    "Collapsed": "false"
   }
  },
  {
   "cell_type": "code",
   "execution_count": null,
   "source": [
    "import pandas as pd\r\n",
    "import matplotlib.pyplot as plt\r\n",
    "from pandas.plotting import register_matplotlib_converters\r\n",
    "register_matplotlib_converters()\r\n",
    "import seaborn as sns\r\n",
    "\r\n",
    "import staircase as sc"
   ],
   "outputs": [],
   "metadata": {
    "Collapsed": "false"
   }
  },
  {
   "cell_type": "markdown",
   "source": [
    "We begin by importing the data using the [pandas](https://pandas.pydata.org/) library, and take the opportunity to specify which columns of the resulting dataframe should be interpreted as dates, and which should be interpreted as categorical."
   ],
   "metadata": {
    "Collapsed": "false"
   }
  },
  {
   "cell_type": "code",
   "execution_count": null,
   "source": [
    "data = pd.read_csv(\r\n",
    "    './data/hotel_stays.csv',\r\n",
    "    parse_dates=[\"check_in\", \"check_out\"],\r\n",
    "    dtype={\"reserved_room_type\":\"category\", \"assigned_room_type\":\"category\"},\r\n",
    ")\r\n",
    "data"
   ],
   "outputs": [],
   "metadata": {
    "Collapsed": "false"
   }
  },
  {
   "cell_type": "markdown",
   "source": [
    "We will be interested in performing some analysis based on assigned room types.  The following code produces a pandas.Series instance, indexed by the various room types.  The values of this series are staircase.Stairs instances, each representing the number of rooms occupied over time."
   ],
   "metadata": {
    "Collapsed": "false"
   }
  },
  {
   "cell_type": "code",
   "execution_count": null,
   "source": [
    "assigned_room_type_stairs = data.groupby([\"assigned_room_type\"]).apply(sc.Stairs, \"check_in\", \"check_out\")\r\n",
    "assigned_room_type_stairs"
   ],
   "outputs": [],
   "metadata": {
    "Collapsed": "false"
   }
  },
  {
   "cell_type": "markdown",
   "source": [
    "It will be useful to keep a reference of the possible room types which can be assigned..."
   ],
   "metadata": {
    "Collapsed": "false"
   }
  },
  {
   "cell_type": "code",
   "execution_count": null,
   "source": [
    "assigned_room_types = list(assigned_room_type_stairs.index)\r\n",
    "assigned_room_types"
   ],
   "outputs": [],
   "metadata": {
    "Collapsed": "false"
   }
  },
  {
   "cell_type": "markdown",
   "source": [
    "## How many rooms assigned over the course of the year?"
   ],
   "metadata": {
    "Collapsed": "false"
   }
  },
  {
   "cell_type": "markdown",
   "source": [
    "Let's start by looking at how many rooms, in total, were occupied over time.  The arithmetic operators that belong to the Stairs class are automatically applied when calling their counterparts belonging to the pandas.Series class.  For example the code block below adds the Stairs instances for each room type together, to produce a single Stairs instance representing total rooms."
   ],
   "metadata": {
    "Collapsed": "false"
   }
  },
  {
   "cell_type": "code",
   "execution_count": null,
   "source": [
    "all_assigned_stairs = assigned_room_type_stairs.sum()\r\n",
    "all_assigned_stairs"
   ],
   "outputs": [],
   "metadata": {
    "Collapsed": "false"
   }
  },
  {
   "cell_type": "markdown",
   "source": [
    "We can make a simple plot to get a quick feel for how the total bookings vary over the course of the year.  Plotting with the staircase package is compatible with the [matplotlib](https://matplotlib.org/) library (and therefore also [seaborn](https://seaborn.pydata.org/) which is built upon matplotlib).*"
   ],
   "metadata": {
    "Collapsed": "false"
   }
  },
  {
   "cell_type": "code",
   "execution_count": null,
   "source": [
    "boundary_2016 = (pd.to_datetime('2016'), pd.to_datetime('2017'))\r\n",
    "\r\n",
    "fig, ax = plt.subplots(figsize=(15,8))\r\n",
    "all_assigned_stairs.plot(ax=ax)\r\n",
    "ax.set_xlim(*boundary_2016);"
   ],
   "outputs": [],
   "metadata": {
    "Collapsed": "false"
   }
  },
  {
   "cell_type": "markdown",
   "source": [
    "A visual inspection of the graph suggests the hotel probably has approximately 180 rooms.  We can check the actual maximum simulteanous bookings observed with the Stairs.max function."
   ],
   "metadata": {
    "Collapsed": "false"
   }
  },
  {
   "cell_type": "code",
   "execution_count": null,
   "source": [
    "all_assigned_stairs.max()"
   ],
   "outputs": [],
   "metadata": {
    "Collapsed": "false"
   }
  },
  {
   "cell_type": "markdown",
   "source": [
    "In the plot above there is a fair bit of noise introduced by the fact that the step function changes value whenever there is a check-in our check-out.  We can use the Stairs.resample function to get a step function which tracks the occupancy at midnight of each night, which will give a clearer view of what is going on"
   ],
   "metadata": {
    "Collapsed": "false"
   }
  },
  {
   "cell_type": "code",
   "execution_count": null,
   "source": [
    "midnights_2016 = pd.date_range(*boundary_2016, closed='left')\r\n",
    "all_assigned_midnight_stairs = all_assigned_stairs.resample(midnights_2016)"
   ],
   "outputs": [],
   "metadata": {
    "Collapsed": "false"
   }
  },
  {
   "cell_type": "markdown",
   "source": [
    "When we plot our resampled Stairs instance, we can see that it traces the maximum of the previous Stairs instance.  This is to be expected."
   ],
   "metadata": {
    "Collapsed": "false"
   }
  },
  {
   "cell_type": "code",
   "execution_count": null,
   "source": [
    "fig, ax = plt.subplots(figsize=(15,8))\r\n",
    "all_assigned_stairs.plot(ax=ax)\r\n",
    "all_assigned_midnight_stairs.plot(ax=ax, linewidth=2);\r\n",
    "ax.set_xlim(*boundary_2016);"
   ],
   "outputs": [],
   "metadata": {
    "Collapsed": "false"
   }
  },
  {
   "cell_type": "markdown",
   "source": [
    "An alternative to the above is to create evaluate the step function at the midnight values, and create a pandas.Series from the results.  This method can be used with a rolling window to highlight trend.  In the code block below we use a method chain to create such a series, apply a 7 day rolling average and plot the result"
   ],
   "metadata": {
    "Collapsed": "false"
   }
  },
  {
   "cell_type": "code",
   "execution_count": null,
   "source": [
    "fig, ax = plt.subplots(figsize=(15,8))\r\n",
    "all_assigned_stairs.plot(ax=ax)\r\n",
    "(pd.Series(all_assigned_stairs(midnights_2016), index=midnights_2016)\r\n",
    "    .rolling(7,center=True).mean()\r\n",
    "    .plot(ax=ax, linewidth=3)\r\n",
    ")\r\n",
    "ax.set_xlim(*boundary_2016);"
   ],
   "outputs": [],
   "metadata": {
    "Collapsed": "false"
   }
  },
  {
   "cell_type": "markdown",
   "source": [
    "Let's now turn our attention to the occupancy of each room type.  Recall that assigned_room_type_stairs is a pandas.Series instance, indexed by room type, and whose values are Stairs instances.  Let's plot the occupancy for each room type on the one chart."
   ],
   "metadata": {
    "Collapsed": "false"
   }
  },
  {
   "cell_type": "code",
   "execution_count": null,
   "source": [
    "fig, ax = plt.subplots(figsize=(15,8))\r\n",
    "for room_type in assigned_room_types:\r\n",
    "    assigned_room_type_stairs[room_type].plot(ax=ax, label=room_type)\r\n",
    "ax.set_xlim(*boundary_2016)\r\n",
    "ax.legend();\r\n"
   ],
   "outputs": [],
   "metadata": {
    "Collapsed": "false"
   }
  },
  {
   "cell_type": "markdown",
   "source": [
    "From the plot above we can see that room type A is the most common room in the hotel, followed by room type D, then E, and so on.  There are very few rooms of type B, H, and I.  Perhaps their rarity suggests they might be penthouse suites, or capable of accommodating large families.  If we want to repeat the previous exercise of removing noise, by evaluating the step functions at midnight, we can resample all the Stairs instances using pandas.Series.map and a lambda function"
   ],
   "metadata": {
    "Collapsed": "false"
   }
  },
  {
   "cell_type": "code",
   "execution_count": null,
   "source": [
    "assigned_room_type_stairs.map(lambda x: x.resample(midnights_2016))"
   ],
   "outputs": [],
   "metadata": {
    "Collapsed": "false"
   }
  },
  {
   "cell_type": "markdown",
   "source": [
    "Alternatively the staircase package contains a function called sample, which takes a collection of Stairs instances and evaluates them at the values specified.  The results are returned as a pandas.DataFrame."
   ],
   "metadata": {
    "Collapsed": "false"
   }
  },
  {
   "cell_type": "code",
   "execution_count": null,
   "source": [
    "def create_rolling_value(df):\r\n",
    "    df.value = df.value.rolling(window=7, center=True).mean()\r\n",
    "    return df\r\n",
    "\r\n",
    "booked_sample = sc.sample(assigned_room_type_stairs, midnights_2016).rolling(window=7, center=True, min_periods=1, axis=1).mean()\r\n",
    "booked_sample"
   ],
   "outputs": [],
   "metadata": {
    "Collapsed": "false"
   }
  },
  {
   "cell_type": "code",
   "execution_count": null,
   "source": [
    "booked_sample_tidy = booked_sample.reset_index().melt(id_vars=\"assigned_room_type\", var_name=\"date\", value_name=\"booked_room_count\")"
   ],
   "outputs": [],
   "metadata": {}
  },
  {
   "cell_type": "markdown",
   "source": [
    "The [seaborn](https://seaborn.pydata.org/) package makes plotting tidy data simple, so we take advantage of this by using the seaborn.lineplot function."
   ],
   "metadata": {
    "Collapsed": "false"
   }
  },
  {
   "cell_type": "code",
   "execution_count": null,
   "source": [
    "fig, ax = plt.subplots(figsize=(15,8))\r\n",
    "sns.lineplot(data=booked_sample_tidy, x=\"date\", y=\"booked_room_count\", hue=\"assigned_room_type\", ax=ax);"
   ],
   "outputs": [],
   "metadata": {
    "Collapsed": "false"
   }
  },
  {
   "cell_type": "markdown",
   "source": [
    "So far we have analysed occupancy from the persepective of room count.  Next we demonstrate how the staircase package can easily incorporate the number of guests into the analysis"
   ],
   "metadata": {
    "Collapsed": "false"
   }
  },
  {
   "cell_type": "markdown",
   "source": [
    "## How many people over the course of the year?"
   ],
   "metadata": {
    "Collapsed": "false"
   }
  },
  {
   "cell_type": "markdown",
   "source": [
    "Recall that \"data\" is the pandas.DataFrame containing the hotel booking data.  We proceed as before, however this time when we call the layer function, we weight the booking intervals by the number of people (adults + children) associated with the booking.  We create a Stairs instance for each assigned room type but also create a Stairs instance by adding the others together.  Finally we create a pandas.Series indexed by the midnight values."
   ],
   "metadata": {
    "Collapsed": "false"
   }
  },
  {
   "cell_type": "code",
   "execution_count": null,
   "source": [
    "people_room_type_stairs = data.groupby([\"assigned_room_type\"]).apply(lambda df: sc.Stairs(df, \"check_in\", \"check_out\", df.eval(\"adults + children\")))\r\n",
    "people_stairs = people_room_type_stairs.sum()\r\n",
    "people_midnight_stairs = people_stairs.resample(midnights_2016)\r\n",
    "people_midnight_series = pd.Series(people_stairs(midnights_2016), index=midnights_2016)"
   ],
   "outputs": [],
   "metadata": {
    "Collapsed": "false"
   }
  },
  {
   "cell_type": "markdown",
   "source": [
    "As before we plot a rolling 7 day average, applied to the step function values, evaluated at midnight"
   ],
   "metadata": {
    "Collapsed": "false"
   }
  },
  {
   "cell_type": "code",
   "execution_count": null,
   "source": [
    "fig, ax = plt.subplots(figsize=(15,8))\r\n",
    "people_stairs.plot(ax=ax)\r\n",
    "people_midnight_series.rolling(7,center=True).mean().plot(ax=ax, linewidth=3)\r\n",
    "ax.set_xlim(*boundary_2016);"
   ],
   "outputs": [],
   "metadata": {
    "Collapsed": "false"
   }
  },
  {
   "cell_type": "markdown",
   "source": [
    "The Stairs class comes with several functions which allow for aggregation of step function values.  For example in the following code block we use Stairs instances to calculate\n",
    "\n",
    "    1) The average number of people staying each night, for 2016\n",
    "    2) The average number of rooms occupied each night, for 2016\n",
    "    3) The average number of people per room, for 2016\n",
    "    \n",
    "Note that we use the optional datetime parameter and set it to True.  Internally, this means calculations are done with datetime.timedelta rather than pandas.Timedelta.  The reason this is necessary in this instance is to avoid an OverflowError caused by exceeding [pandas.Timedelta limitations](https://pandas.pydata.org/pandas-docs/stable/user_guide/timedeltas.html#timedelta-limitations)."
   ],
   "metadata": {
    "Collapsed": "false"
   }
  },
  {
   "cell_type": "code",
   "execution_count": null,
   "source": [
    "print(people_midnight_stairs.mean(boundary_2016))\r\n",
    "print(all_assigned_midnight_stairs.mean(boundary_2016))\r\n",
    "print(people_midnight_stairs.mean(boundary_2016)/all_assigned_midnight_stairs.mean(boundary_2016))"
   ],
   "outputs": [],
   "metadata": {
    "Collapsed": "false"
   }
  },
  {
   "cell_type": "markdown",
   "source": [
    "So, on average room bookings are made for 2 people.  What if we want to know how this value changes over the course of the year?  We can do this by utilising arithmetic operators with Stairs instances.  In the code block below we apply operations to pandas.Series so that for each assigned room type we divide the step function, representing number of people booked, by the step function representing the number of rooms booked.  Note we add a small value of 0.00001 to the divisor to avoid divide by zero errors."
   ],
   "metadata": {
    "Collapsed": "false"
   }
  },
  {
   "cell_type": "code",
   "execution_count": null,
   "source": [
    "people_per_room_type_stairs = people_room_type_stairs/assigned_room_type_stairs\r\n",
    "people_per_room_type_stairs"
   ],
   "outputs": [],
   "metadata": {
    "Collapsed": "false"
   }
  },
  {
   "cell_type": "markdown",
   "source": [
    "We then plot each of these Stairs instances on a separate chart."
   ],
   "metadata": {
    "Collapsed": "false"
   }
  },
  {
   "cell_type": "code",
   "execution_count": null,
   "source": [
    "for room_type in people_per_room_type_stairs.index:\r\n",
    "    fig, ax = plt.subplots(figsize=(20,8))\r\n",
    "    people_per_room_type_stairs[room_type].plot(ax=ax, label=room_type)\r\n",
    "    ax.legend()"
   ],
   "outputs": [],
   "metadata": {
    "Collapsed": "false"
   }
  },
  {
   "cell_type": "markdown",
   "source": [
    "There are some interesting observations from the above graphs:\n",
    "    \n",
    "    1) The nature of the plot for room type C changes around April.  When we cross reference it with the assigned room count plot we see that the total number of rooms of type C seems to increase around April.  Perhaps the hotel finished renovations which increased the number of rooms of this type?\n",
    "    \n",
    "    2) Room types C, G, H and I are capable of holding 4+ people.  Recall from previous plots there is also a seemingly low number of these rooms available.  Perhaps types C, G, H and I are in fact different bed configurations for the one pool of rooms?  Perhaps the purchase of more beds (allowing more possible configurations) was the cause of more rooms of type C being available from April onwards?\n",
    "    \n",
    "    3) Room types B and F generally hold 2 people.  There is also a relatively low number of these room types?  Perhaps these room types are good candidates for being a penthouse suite, or some similar luxury room?\n",
    "    \n",
    "    4) The average number of people per room appears to slightly increase in July and August for many room types?  Perhaps this hotel belongs to an area of the world which holidays over these months, making rooms more likely to be booked by families with children?"
   ],
   "metadata": {
    "Collapsed": "false"
   }
  },
  {
   "cell_type": "markdown",
   "source": [
    "## How often were people upgraded from room type A to room type B?"
   ],
   "metadata": {
    "Collapsed": "false"
   }
  },
  {
   "cell_type": "markdown",
   "source": [
    "So far the analysis has focussed on assigned rooms.  The original data also contains information on what type of room was reserved.  Let's start by creating Stairs instances for each reserved room type.  We'll also check what types of room can be reserved."
   ],
   "metadata": {
    "Collapsed": "false"
   }
  },
  {
   "cell_type": "code",
   "execution_count": null,
   "source": [
    "reserved_room_type_stairs = data.groupby([\"reserved_room_type\"]).apply(sc.Stairs, \"check_in\", \"check_out\")\r\n",
    "reserved_room_types = list(reserved_room_type_stairs.index)\r\n",
    "reserved_room_types"
   ],
   "outputs": [],
   "metadata": {
    "Collapsed": "false"
   }
  },
  {
   "cell_type": "markdown",
   "source": [
    "It is interesting to note that room types B and I cannot be reserved.  We speculated above that rooms of type B might luxury - perhaps they are a type of Presedential Suite that is cannot be reserved!  As for room I, perhaps it corresponds to a configuration which includes 1 double bed and 2 single beds put together to form a double?  This would explain why it is not a reservable type - presumably guests would just book a room type with two double beds.\n",
    "\n",
    "For those room types which can be reserved, let's see how often guests are assigned the room they requested by taking the difference of two pandas.Series holding Stairs instances."
   ],
   "metadata": {
    "Collapsed": "false"
   }
  },
  {
   "cell_type": "code",
   "execution_count": null,
   "source": [
    "reserved_vs_assigned_stairs = reserved_room_type_stairs - assigned_room_type_stairs[reserved_room_type_stairs.index]\r\n",
    "reserved_vs_assigned_stairs"
   ],
   "outputs": [],
   "metadata": {
    "Collapsed": "false"
   }
  },
  {
   "cell_type": "code",
   "execution_count": null,
   "source": [
    "tidy_sample = sc.sample(reserved_vs_assigned_stairs, midnights_2016).reset_index().melt(id_vars=\"reserved_room_type\", var_name=\"date\")\r\n",
    "tidy_sample"
   ],
   "outputs": [],
   "metadata": {}
  },
  {
   "cell_type": "markdown",
   "source": [
    "We plot these step functions below.  Note that room type A is requested more often than it is assigned, and room D is, more often than not, assigned more than it is requested.  Both of these room types generally hold 2 guests so we speculate that room type A is a budget room, and when all rooms of this type are occupied, guests are upgraded to a more premium room of type D.  It also appears that when rooms of type D are popular (May to October based off the chart), guests requesting room A might be upgraded to rooms of type C - which can hold more than 2 people but of course can still be used to accommodate 2 (or less people) if required."
   ],
   "metadata": {
    "Collapsed": "false"
   }
  },
  {
   "cell_type": "code",
   "execution_count": null,
   "source": [
    "fig, ax = plt.subplots(figsize=(15,8))\r\n",
    "sns.lineplot(data=tidy_sample, x=\"date\", y=\"value\", hue=\"reserved_room_type\", ax=ax);"
   ],
   "outputs": [],
   "metadata": {
    "Collapsed": "false"
   }
  },
  {
   "cell_type": "markdown",
   "source": [
    "What percentage of bookings for room type A are upgraded (assuming that is what is happening) over time?  The plot below shows the fraction of bookings for room type A that were assigned room type A.  It is interesting to note that from June to September a relatively high proportion of bookings requesting room type A are assigned these rooms.  Yet we have seen that the total number of guests is relatively high during this time.  This gives credence to our previous speculation that families are with 3+ people are booking at a higher rate over this period"
   ],
   "metadata": {
    "Collapsed": "false"
   }
  },
  {
   "cell_type": "code",
   "execution_count": null,
   "source": [
    "reserved_vs_assigned_frac = assigned_room_type_stairs[reserved_room_type_stairs.index]/reserved_room_type_stairs\r\n",
    "fig, ax = plt.subplots(figsize=(15,8))\r\n",
    "ax.plot(midnights_2016, reserved_vs_assigned_frac['A'](midnights_2016));"
   ],
   "outputs": [],
   "metadata": {
    "Collapsed": "false"
   }
  },
  {
   "cell_type": "code",
   "execution_count": null,
   "source": [],
   "outputs": [],
   "metadata": {}
  }
 ],
 "metadata": {
  "kernelspec": {
   "display_name": "Python 3",
   "language": "python",
   "name": "python3"
  },
  "language_info": {
   "codemirror_mode": {
    "name": "ipython",
    "version": 3
   },
   "file_extension": ".py",
   "mimetype": "text/x-python",
   "name": "python",
   "nbconvert_exporter": "python",
   "pygments_lexer": "ipython3",
   "version": "3.7.5"
  }
 },
 "nbformat": 4,
 "nbformat_minor": 4
}