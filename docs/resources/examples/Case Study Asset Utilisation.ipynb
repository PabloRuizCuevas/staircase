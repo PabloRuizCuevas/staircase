{
 "cells": [
  {
   "cell_type": "markdown",
   "source": [
    "# Case study: asset utilisation\n",
    "\n",
    "This case study illustrates the use of the staircase package for analysing asset utilsation.  In this example we have a group of 3 identical assets, X, Y, and Z.  These assets are parallel machines, such as bays in a carwash.  Each asset can either be in one of two states - on or off (or alternatively working or not working).\n",
    "\n",
    "The data used is this case study is synthetic and fictional.  Both data and the notebook for this tutorial can be obtained from the [github site](https://github.com/venaturum/staircase/tree/master/docs/examples)."
   ],
   "metadata": {}
  },
  {
   "cell_type": "code",
   "execution_count": null,
   "source": [
    "import pandas as pd\r\n",
    "import staircase as sc\r\n",
    "import matplotlib.pyplot as plt"
   ],
   "outputs": [],
   "metadata": {}
  },
  {
   "cell_type": "markdown",
   "source": [
    "We begin by importing the asset data into a pandas.DataFrame instance. Each row corresponds to a period of time that an asset is being used.  The first column identifies the asset, while the second and third columns give the start and end times of the period of use respectively."
   ],
   "metadata": {}
  },
  {
   "cell_type": "code",
   "execution_count": null,
   "source": [
    "data = pd.read_csv(r\"./data/asset_use.csv\", parse_dates=['start', 'end'], dayfirst=True)\r\n",
    "data"
   ],
   "outputs": [],
   "metadata": {}
  },
  {
   "cell_type": "markdown",
   "source": [
    "For the analysis we would like a Stairs object for each asset.  Each Stairs object will represent a step function which takes a value of zero, when the asset is not in use, and a value of one when the asset is in use.  We define a function called \"make_stairs\" which, given a dataframe, creates a Stairs instance based on columns called \"start\" and \"end\".  We can then use this function, in conjunction with a groupby-apply, to create a pandas.Series indexed by asset name, with Stairs values."
   ],
   "metadata": {}
  },
  {
   "cell_type": "code",
   "execution_count": null,
   "source": [
    "make_stairs = lambda df: sc.Stairs(0, df.start, df.end)\r\n",
    "\r\n",
    "asset_use = data.groupby(['asset']).apply(sc.Stairs, \"start\", \"end\")"
   ],
   "outputs": [],
   "metadata": {}
  },
  {
   "cell_type": "markdown",
   "source": [
    "We can access an individual Stairs object with the corresponding asset name.  For example, to plot the step function corresponding to asset Z:"
   ],
   "metadata": {}
  },
  {
   "cell_type": "code",
   "execution_count": null,
   "source": [
    "asset_use['Z'].plot()"
   ],
   "outputs": [],
   "metadata": {}
  },
  {
   "cell_type": "markdown",
   "source": [
    "A wall of blue!  Perhaps our asset is oscillating between not used and used (0 amd 1 respectively) so often that plotting an entire year is not helpful.  Let's confirm this conjecture by capturing the axes which is being plotted onto, and \"zooming in\" on the first day of 2020:"
   ],
   "metadata": {}
  },
  {
   "cell_type": "code",
   "execution_count": null,
   "source": [
    "ax = asset_use['Z'].plot()\r\n",
    "ax.set_xlim('2020-1-1', '2020-1-2')"
   ],
   "outputs": [],
   "metadata": {}
  },
  {
   "cell_type": "markdown",
   "source": [
    "Because these assets belong to a group, we are interested in their combined utilisation, i.e. the addition of the three step functions.  This can be achieved by simply summing up the Stairs objects:"
   ],
   "metadata": {}
  },
  {
   "cell_type": "code",
   "execution_count": null,
   "source": [
    "combined_asset_use = asset_use['X'] + asset_use['Y'] + asset_use['Z']"
   ],
   "outputs": [],
   "metadata": {}
  },
  {
   "cell_type": "markdown",
   "source": [
    "Note that we can also achieve the same result by leveraging the panda.Series.sum method.  That method leverages the addition operator defined by the Stairs class to perform the calculation."
   ],
   "metadata": {}
  },
  {
   "cell_type": "code",
   "execution_count": null,
   "source": [
    "combined_asset_use = asset_use.sum()"
   ],
   "outputs": [],
   "metadata": {}
  },
  {
   "cell_type": "markdown",
   "source": [
    "Using the integrate method we can see that the three assets together worked for a total of 13,1712 hours in the year 2020."
   ],
   "metadata": {}
  },
  {
   "cell_type": "code",
   "execution_count": null,
   "source": [
    "combined_asset_use.clip(\r\n",
    "    pd.Timestamp('2020'),\r\n",
    "    pd.Timestamp('2021'),\r\n",
    ").integral()/pd.Timedelta(\"1h\")"
   ],
   "outputs": [],
   "metadata": {}
  },
  {
   "cell_type": "markdown",
   "source": [
    "Given there are 3 assets, and 8784 hours in the year, there are a total of 26,352 hours that the assets could have worked - approximately double the hours used.  It is not surprising then that calculating the average group utilisation for the year 2020 is approximately 1.5: "
   ],
   "metadata": {}
  },
  {
   "cell_type": "code",
   "execution_count": null,
   "source": [
    "combined_asset_use.clip(\r\n",
    "    pd.Timestamp('2020'),\r\n",
    "    pd.Timestamp('2021'),\r\n",
    ").mean()"
   ],
   "outputs": [],
   "metadata": {}
  },
  {
   "cell_type": "markdown",
   "source": [
    "Now we will look to discover how often exactly none of the assets were being used.  If we compare our combined_asset_use Stairs instance to 0, then the result is a Stairs instance.  This object represents a binary (or boolean) valued step function, which takes value 1 whenever there are 0 assets being used."
   ],
   "metadata": {}
  },
  {
   "cell_type": "code",
   "execution_count": null,
   "source": [
    "combined_asset_use == 0"
   ],
   "outputs": [],
   "metadata": {}
  },
  {
   "cell_type": "markdown",
   "source": [
    "The question, of how often none of the assets are being used, can be answered with the help of the mean method:"
   ],
   "metadata": {}
  },
  {
   "cell_type": "code",
   "execution_count": null,
   "source": [
    "yr2020 = (pd.Timestamp('2020'), pd.Timestamp('2021'))\r\n",
    "combined_asset_use_2020 = combined_asset_use.clip(*yr2020)\r\n",
    "(combined_asset_use_2020 == 0).mean()"
   ],
   "outputs": [],
   "metadata": {}
  },
  {
   "cell_type": "markdown",
   "source": [
    "So there are no assets being used at all, during 2020, approximately 12.4% of the time.  If we wish to further this idea by extending to 1, 2, or 3 assets being used, then we can do so with a list comprehension to store each result.  We wrap this in a pandas.Series for convenience:"
   ],
   "metadata": {}
  },
  {
   "cell_type": "code",
   "execution_count": null,
   "source": [
    "combined_utilisation_2020 = pd.Series([(combined_asset_use_2020 == i).mean() for i in range(4)])\r\n",
    "combined_utilisation_2020"
   ],
   "outputs": [],
   "metadata": {}
  },
  {
   "cell_type": "markdown",
   "source": [
    "Note that as of version 1.2 the Stairs class has a method called *hist* which can perform the previous calculation much faster."
   ],
   "metadata": {}
  },
  {
   "cell_type": "code",
   "execution_count": null,
   "source": [
    "combined_asset_use_2020.hist()"
   ],
   "outputs": [],
   "metadata": {}
  },
  {
   "cell_type": "markdown",
   "source": [
    "We can also choose to normalise this data:"
   ],
   "metadata": {}
  },
  {
   "cell_type": "code",
   "execution_count": null,
   "source": [
    "combined_utilisation_2020 = combined_asset_use_2020.hist(stat=\"density\")\r\n",
    "combined_utilisation_2020"
   ],
   "outputs": [],
   "metadata": {}
  },
  {
   "cell_type": "markdown",
   "source": [
    "We can see from this result that all assets are being used approximately 12.5% of the time.  Since the values are fractions of a whole, if we sum the values in the series we should get a value of 1.  Let's check:"
   ],
   "metadata": {}
  },
  {
   "cell_type": "code",
   "execution_count": null,
   "source": [
    "combined_utilisation_2020.sum()"
   ],
   "outputs": [],
   "metadata": {}
  },
  {
   "cell_type": "markdown",
   "source": [
    "We can also use the pandas.Series plotting methods to get a quick visual of this utilisation breakdown:"
   ],
   "metadata": {}
  },
  {
   "cell_type": "code",
   "execution_count": null,
   "source": [
    "combined_utilisation_2020.plot.bar()"
   ],
   "outputs": [],
   "metadata": {}
  },
  {
   "cell_type": "markdown",
   "source": [
    "Using various methods from the Stairs class we can answer questions such as \"How often is X working while Y is not?\": (25.4%)"
   ],
   "metadata": {}
  },
  {
   "cell_type": "code",
   "execution_count": null,
   "source": [
    "(asset_use[\"X\"] > asset_use[\"Y\"]).clip(\r\n",
    "    pd.Timestamp('2020'),\r\n",
    "    pd.Timestamp('2021'),\r\n",
    ").mean()"
   ],
   "outputs": [],
   "metadata": {}
  },
  {
   "cell_type": "markdown",
   "source": [
    "\"How many assets were being used at 9:40am on the 5th of September?: (2)"
   ],
   "metadata": {}
  },
  {
   "cell_type": "code",
   "execution_count": null,
   "source": [
    "combined_asset_use(pd.Timestamp(2020, 9, 5, 9, 40))"
   ],
   "outputs": [],
   "metadata": {}
  },
  {
   "cell_type": "markdown",
   "source": [
    "\"Which 2 assets were being used at this time?\": (X and Y)"
   ],
   "metadata": {}
  },
  {
   "cell_type": "code",
   "execution_count": null,
   "source": [
    "asset_use.apply(lambda s: s(pd.Timestamp(2020, 9, 5, 9, 40)))"
   ],
   "outputs": [],
   "metadata": {}
  },
  {
   "cell_type": "markdown",
   "source": [
    "If we'd prefer to work with \"idleness\", instead of \"in use\", we can create a Stairs object to capture this.  The idea is to start with a step function with value 3 everywhere (since we have 3 assets) and subtract the step function for \"in use\":"
   ],
   "metadata": {}
  },
  {
   "cell_type": "code",
   "execution_count": null,
   "source": [
    "combined_assets_idle = sc.Stairs(initial_value=3)-combined_asset_use"
   ],
   "outputs": [],
   "metadata": {}
  },
  {
   "cell_type": "markdown",
   "source": [
    "The number of assets idle at 9:40am on the 5th of September should be 1 right?  Let's check:"
   ],
   "metadata": {}
  },
  {
   "cell_type": "code",
   "execution_count": null,
   "source": [
    "combined_assets_idle(pd.Timestamp(2020, 9, 5, 9, 40))"
   ],
   "outputs": [],
   "metadata": {}
  }
 ],
 "metadata": {
  "kernelspec": {
   "name": "python3",
   "display_name": "Python 3.7.5 64-bit ('staircase-wN5-eePl-py3.7': venv)"
  },
  "language_info": {
   "codemirror_mode": {
    "name": "ipython",
    "version": 3
   },
   "file_extension": ".py",
   "mimetype": "text/x-python",
   "name": "python",
   "nbconvert_exporter": "python",
   "pygments_lexer": "ipython3",
   "version": "3.7.5"
  },
  "interpreter": {
   "hash": "6bf60174825840c504a5bcdeb584041e234e81e834f20bf858721befc2e0bedf"
  }
 },
 "nbformat": 4,
 "nbformat_minor": 4
}