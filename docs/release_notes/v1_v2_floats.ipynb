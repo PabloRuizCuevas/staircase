{
    "cells": [
        {
            "cell_type": "markdown",
            "source": [
                "# Speed comparison - V1 vs V2"
            ],
            "metadata": {}
        },
        {
            "cell_type": "markdown",
            "source": [
                "\r\n",
                "Comparison made on machine with the following specs:\r\n",
                "\r\n",
                "    Operating System: Windows 10 Pro 64-bit (10.0, Build 19042) (19041.vb_release.191206-1406)  \r\n",
                "           Processor: Intel(R) Core(TM) i7-9750H CPU @ 2.60GHz (12 CPUs), ~2.6GHz\r\n",
                "              Memory: 16384MB RAM\r\n",
                "\r\n",
                "\r\n",
                "Key components in environment:\r\n",
                "\r\n",
                "              Python: 3.9.0\r\n",
                "              Pandas: 1.3.0\r\n",
                "               Numpy: 1.21.0"
            ],
            "metadata": {}
        },
        {
            "cell_type": "markdown",
            "source": [
                "## Timeit setup"
            ],
            "metadata": {}
        },
        {
            "cell_type": "code",
            "execution_count": 1,
            "source": [
                "import numpy as np\r\n",
                "import timeit"
            ],
            "outputs": [],
            "metadata": {}
        },
        {
            "cell_type": "code",
            "execution_count": 2,
            "source": [
                "setup = \"\"\"\r\n",
                "import staircase_one as sc1\r\n",
                "import staircase as sc2\r\n",
                "import numpy as np\r\n",
                "import pandas as pd\r\n",
                "import warnings\r\n",
                "warnings.filterwarnings(\"ignore\", category=DeprecationWarning)\r\n",
                "\r\n",
                "def make_data(use_dates, intervals=4000):\r\n",
                "    starts = np.random.randint(-24*60, 24*365*60, intervals)\r\n",
                "    ends = starts + np.round(np.random.triangular(2*60, 8*60, 24*60, intervals))\r\n",
                "    values = np.random.randint(1, 20, intervals)\r\n",
                "    \r\n",
                "    df = pd.DataFrame({\"start\":starts, \"end\":ends, \"value\":values}).query(\"end > 0\")\r\n",
                "    df.loc[df[\"start\"] < 0, \"start\"] = np.nan\r\n",
                "    df.loc[df[\"end\"] > 365*24*60, \"end\"] = np.nan\r\n",
                "\r\n",
                "    if use_dates:\r\n",
                "        df[\"start\"] = pd.to_datetime(df[\"start\"], unit=\"m\", origin=pd.Timestamp(\"2021\"))\r\n",
                "        df[\"end\"] = pd.to_datetime(df[\"end\"], unit=\"m\", origin=pd.Timestamp(\"2021\"))\r\n",
                "    \r\n",
                "    return df.sort_values('end', na_position='last').sort_values('start', na_position='first')\r\n",
                "    \r\n",
                "\"\"\""
            ],
            "outputs": [],
            "metadata": {}
        },
        {
            "cell_type": "code",
            "execution_count": 3,
            "source": [
                "create_stairs = \"\"\"\r\n",
                "use_dates = False\r\n",
                "\r\n",
                "dfA = make_data(use_dates)\r\n",
                "dfB = make_data(use_dates)\r\n",
                "\r\n",
                "s1A = sc1.Stairs(use_dates=use_dates).layer(dfA['start'], dfA['end'])\r\n",
                "s1B = sc1.Stairs(use_dates=use_dates).layer(dfB['start'], dfB['end'])\r\n",
                "\r\n",
                "s2A = sc2.Stairs().layer(dfA['start'], dfA['end'])\r\n",
                "s2B = sc2.Stairs().layer(dfB['start'], dfB['end'])\r\n",
                "\"\"\""
            ],
            "outputs": [],
            "metadata": {}
        },
        {
            "cell_type": "code",
            "execution_count": 4,
            "source": [
                "from IPython.display import display, Markdown\r\n",
                "\r\n",
                "def compare(stmt1, stmt2, repeat, number, extra_setup):\r\n",
                "    \r\n",
                "    def time(stmt):\r\n",
                "        return np.divide(\r\n",
                "            timeit.repeat(\r\n",
                "                stmt,\r\n",
                "                setup=setup+extra_setup,\r\n",
                "                repeat=repeat,\r\n",
                "                number=number,\r\n",
                "            ),\r\n",
                "            repeat\r\n",
                "        ).min()\r\n",
                "\r\n",
                "    time1 = time(stmt1)\r\n",
                "    time2 = time(stmt2)\r\n",
                "    ratio = time1/time2\r\n",
                "    if ratio < 1:\r\n",
                "        speedup = f\"{time1/time2:.2f}\"\r\n",
                "    else:\r\n",
                "        speedup = str(float(f\"{time1/time2:.2g}\")).removesuffix(\".0\")\r\n",
                "    display(Markdown(f\"## Speed up ~ {speedup}x\"))\r\n",
                "\r\n"
            ],
            "outputs": [],
            "metadata": {}
        },
        {
            "cell_type": "markdown",
            "source": [
                "## Creation + layering"
            ],
            "metadata": {}
        },
        {
            "cell_type": "code",
            "execution_count": 5,
            "source": [
                "stmt1 = 'sc1.Stairs(use_dates=False).layer(dfA[\"start\"], dfA[\"end\"], dfA[\"value\"])'\r\n",
                "stmt2 = 'sc2.Stairs(dfA, start=\"start\", end=\"end\", value=\"value\")'\r\n",
                "compare(stmt1, stmt2, 1000, 1, create_stairs)"
            ],
            "outputs": [
                {
                    "output_type": "display_data",
                    "data": {
                        "text/plain": [
                            "<IPython.core.display.Markdown object>"
                        ],
                        "text/markdown": [
                            "## Speed up ~ 3.1x"
                        ]
                    },
                    "metadata": {}
                }
            ],
            "metadata": {}
        },
        {
            "cell_type": "code",
            "execution_count": 6,
            "source": [
                "stmt1 = 'sc1.Stairs(use_dates=False).layer(dfA[\"start\"], dfA[\"end\"], dfA[\"value\"]).layer(dfB[\"start\"], dfB[\"end\"], dfB[\"value\"])'\r\n",
                "stmt2 = 'sc2.Stairs(dfA, start=\"start\", end=\"end\", value=\"value\").layer(start=\"start\", end=\"end\", value=\"value\", frame=dfB)'\r\n",
                "compare(stmt1, stmt2, 1000, 1, create_stairs)"
            ],
            "outputs": [
                {
                    "output_type": "display_data",
                    "data": {
                        "text/plain": [
                            "<IPython.core.display.Markdown object>"
                        ],
                        "text/markdown": [
                            "## Speed up ~ 2.8x"
                        ]
                    },
                    "metadata": {}
                }
            ],
            "metadata": {}
        },
        {
            "cell_type": "markdown",
            "source": [
                "## Descriptive statistics"
            ],
            "metadata": {}
        },
        {
            "cell_type": "code",
            "execution_count": 7,
            "source": [
                "stmt1 = \"s1A.max()\"\r\n",
                "stmt2 = \"s2A.max()\"\r\n",
                "compare(stmt1, stmt2, 1000, 1, create_stairs)"
            ],
            "outputs": [
                {
                    "output_type": "display_data",
                    "data": {
                        "text/plain": [
                            "<IPython.core.display.Markdown object>"
                        ],
                        "text/markdown": [
                            "## Speed up ~ 33x"
                        ]
                    },
                    "metadata": {}
                }
            ],
            "metadata": {}
        },
        {
            "cell_type": "code",
            "execution_count": 8,
            "source": [
                "stmt1 = \"s1A.min()\"\r\n",
                "stmt2 = \"s2A.min()\"\r\n",
                "compare(stmt1, stmt2, 1000, 1, create_stairs)"
            ],
            "outputs": [
                {
                    "output_type": "display_data",
                    "data": {
                        "text/plain": [
                            "<IPython.core.display.Markdown object>"
                        ],
                        "text/markdown": [
                            "## Speed up ~ 33x"
                        ]
                    },
                    "metadata": {}
                }
            ],
            "metadata": {}
        },
        {
            "cell_type": "code",
            "execution_count": 9,
            "source": [
                "stmt1 = \"s1A.integrate()\"\r\n",
                "stmt2 = \"s2A.integral()\"\r\n",
                "compare(stmt1, stmt2, 1000, 1, create_stairs)"
            ],
            "outputs": [
                {
                    "output_type": "display_data",
                    "data": {
                        "text/plain": [
                            "<IPython.core.display.Markdown object>"
                        ],
                        "text/markdown": [
                            "## Speed up ~ 6.4x"
                        ]
                    },
                    "metadata": {}
                }
            ],
            "metadata": {}
        },
        {
            "cell_type": "code",
            "execution_count": 10,
            "source": [
                "stmt1 = \"s1A.mean()\"\r\n",
                "stmt2 = \"s2A.mean()\"\r\n",
                "compare(stmt1, stmt2, 1000, 1, create_stairs)"
            ],
            "outputs": [
                {
                    "output_type": "display_data",
                    "data": {
                        "text/plain": [
                            "<IPython.core.display.Markdown object>"
                        ],
                        "text/markdown": [
                            "## Speed up ~ 6.3x"
                        ]
                    },
                    "metadata": {}
                }
            ],
            "metadata": {}
        },
        {
            "cell_type": "code",
            "execution_count": 11,
            "source": [
                "stmt1 = \"s1A.median()\"\r\n",
                "stmt2 = \"s2A.median()\"\r\n",
                "compare(stmt1, stmt2, 1000, 1, create_stairs)"
            ],
            "outputs": [
                {
                    "output_type": "display_data",
                    "data": {
                        "text/plain": [
                            "<IPython.core.display.Markdown object>"
                        ],
                        "text/markdown": [
                            "## Speed up ~ 4.9x"
                        ]
                    },
                    "metadata": {}
                }
            ],
            "metadata": {}
        },
        {
            "cell_type": "code",
            "execution_count": 12,
            "source": [
                "stmt1 = \"s1A.percentile(20)\"\r\n",
                "stmt2 = \"s2A.percentile(20)\"\r\n",
                "compare(stmt1, stmt2, 1000, 1, create_stairs)"
            ],
            "outputs": [
                {
                    "output_type": "display_data",
                    "data": {
                        "text/plain": [
                            "<IPython.core.display.Markdown object>"
                        ],
                        "text/markdown": [
                            "## Speed up ~ 4.9x"
                        ]
                    },
                    "metadata": {}
                }
            ],
            "metadata": {}
        },
        {
            "cell_type": "code",
            "execution_count": 13,
            "source": [
                "stmt1 = \"s1A.percentile(0.2*100)\"\r\n",
                "stmt2 = \"s2A.fractile(0.2)\"\r\n",
                "compare(stmt1, stmt2, 900, 1, create_stairs)"
            ],
            "outputs": [
                {
                    "output_type": "display_data",
                    "data": {
                        "text/plain": [
                            "<IPython.core.display.Markdown object>"
                        ],
                        "text/markdown": [
                            "## Speed up ~ 4.9x"
                        ]
                    },
                    "metadata": {}
                }
            ],
            "metadata": {}
        },
        {
            "cell_type": "code",
            "execution_count": 14,
            "source": [
                "stmt1 = \"s1A.std()\"\r\n",
                "stmt2 = \"s2A.std()\"\r\n",
                "compare(stmt1, stmt2, 1000, 1, create_stairs)"
            ],
            "outputs": [
                {
                    "output_type": "display_data",
                    "data": {
                        "text/plain": [
                            "<IPython.core.display.Markdown object>"
                        ],
                        "text/markdown": [
                            "## Speed up ~ 3.6x"
                        ]
                    },
                    "metadata": {}
                }
            ],
            "metadata": {}
        },
        {
            "cell_type": "code",
            "execution_count": 15,
            "source": [
                "stmt1 = \"s1A.var()\"\r\n",
                "stmt2 = \"s2A.var()\"\r\n",
                "compare(stmt1, stmt2, 1000, 1, create_stairs)"
            ],
            "outputs": [
                {
                    "output_type": "display_data",
                    "data": {
                        "text/plain": [
                            "<IPython.core.display.Markdown object>"
                        ],
                        "text/markdown": [
                            "## Speed up ~ 3.5x"
                        ]
                    },
                    "metadata": {}
                }
            ],
            "metadata": {}
        },
        {
            "cell_type": "code",
            "execution_count": 16,
            "source": [
                "stmt1 = \"s1A.cov(s1B)\"\r\n",
                "stmt2 = \"s2A.cov(s2B)\"\r\n",
                "compare(stmt1, stmt2, 1000, 1, create_stairs)"
            ],
            "outputs": [
                {
                    "output_type": "display_data",
                    "data": {
                        "text/plain": [
                            "<IPython.core.display.Markdown object>"
                        ],
                        "text/markdown": [
                            "## Speed up ~ 11x"
                        ]
                    },
                    "metadata": {}
                }
            ],
            "metadata": {}
        },
        {
            "cell_type": "code",
            "execution_count": 17,
            "source": [
                "stmt1 = \"s1A.corr(s1B)\"\r\n",
                "stmt2 = \"s2A.corr(s2B)\"\r\n",
                "compare(stmt1, stmt2, 1000, 1, create_stairs)"
            ],
            "outputs": [
                {
                    "output_type": "display_data",
                    "data": {
                        "text/plain": [
                            "<IPython.core.display.Markdown object>"
                        ],
                        "text/markdown": [
                            "## Speed up ~ 6.1x"
                        ]
                    },
                    "metadata": {}
                }
            ],
            "metadata": {}
        },
        {
            "cell_type": "markdown",
            "source": [
                "## Arithmetic"
            ],
            "metadata": {}
        },
        {
            "cell_type": "code",
            "execution_count": 18,
            "source": [
                "stmt1 = \"s1A + s1B\"\r\n",
                "stmt2 = \"s2A + s2B\"\r\n",
                "compare(stmt1, stmt2, 1000, 1, create_stairs)"
            ],
            "outputs": [
                {
                    "output_type": "display_data",
                    "data": {
                        "text/plain": [
                            "<IPython.core.display.Markdown object>"
                        ],
                        "text/markdown": [
                            "## Speed up ~ 7.7x"
                        ]
                    },
                    "metadata": {}
                }
            ],
            "metadata": {}
        },
        {
            "cell_type": "code",
            "execution_count": 19,
            "source": [
                "stmt1 = \"s1A - s1B\"\r\n",
                "stmt2 = \"s2A - s2B\"\r\n",
                "compare(stmt1, stmt2, 1000, 1, create_stairs)"
            ],
            "outputs": [
                {
                    "output_type": "display_data",
                    "data": {
                        "text/plain": [
                            "<IPython.core.display.Markdown object>"
                        ],
                        "text/markdown": [
                            "## Speed up ~ 7.8x"
                        ]
                    },
                    "metadata": {}
                }
            ],
            "metadata": {}
        },
        {
            "cell_type": "code",
            "execution_count": 20,
            "source": [
                "stmt1 = \"s1A * s1B\"\r\n",
                "stmt2 = \"s2A * s2B\"\r\n",
                "compare(stmt1, stmt2, 1000, 1, create_stairs)"
            ],
            "outputs": [
                {
                    "output_type": "display_data",
                    "data": {
                        "text/plain": [
                            "<IPython.core.display.Markdown object>"
                        ],
                        "text/markdown": [
                            "## Speed up ~ 14x"
                        ]
                    },
                    "metadata": {}
                }
            ],
            "metadata": {}
        },
        {
            "cell_type": "code",
            "execution_count": 21,
            "source": [
                "stmt1 = \"s1A / (s1B+0.0000001)\"\r\n",
                "stmt2 = \"s2A / s2B\"\r\n",
                "compare(stmt1, stmt2, 1000, 1, create_stairs)"
            ],
            "outputs": [
                {
                    "output_type": "display_data",
                    "data": {
                        "text/plain": [
                            "<IPython.core.display.Markdown object>"
                        ],
                        "text/markdown": [
                            "## Speed up ~ 23x"
                        ]
                    },
                    "metadata": {}
                }
            ],
            "metadata": {}
        },
        {
            "cell_type": "markdown",
            "source": [
                "## Relational"
            ],
            "metadata": {}
        },
        {
            "cell_type": "code",
            "execution_count": 22,
            "source": [
                "stmt1 = \"s1A < s1B\"\r\n",
                "stmt2 = \"s2A < s2B\"\r\n",
                "compare(stmt1, stmt2, 1000, 1, create_stairs)"
            ],
            "outputs": [
                {
                    "output_type": "display_data",
                    "data": {
                        "text/plain": [
                            "<IPython.core.display.Markdown object>"
                        ],
                        "text/markdown": [
                            "## Speed up ~ 14x"
                        ]
                    },
                    "metadata": {}
                }
            ],
            "metadata": {}
        },
        {
            "cell_type": "code",
            "execution_count": 23,
            "source": [
                "stmt1 = \"s1A <= s1B\"\r\n",
                "stmt2 = \"s2A <= s2B\"\r\n",
                "compare(stmt1, stmt2, 1000, 1, create_stairs)"
            ],
            "outputs": [
                {
                    "output_type": "display_data",
                    "data": {
                        "text/plain": [
                            "<IPython.core.display.Markdown object>"
                        ],
                        "text/markdown": [
                            "## Speed up ~ 14x"
                        ]
                    },
                    "metadata": {}
                }
            ],
            "metadata": {}
        },
        {
            "cell_type": "code",
            "execution_count": 24,
            "source": [
                "stmt1 = \"s1A > s1B\"\r\n",
                "stmt2 = \"s2A > s2B\"\r\n",
                "compare(stmt1, stmt2, 1000, 1, create_stairs)"
            ],
            "outputs": [
                {
                    "output_type": "display_data",
                    "data": {
                        "text/plain": [
                            "<IPython.core.display.Markdown object>"
                        ],
                        "text/markdown": [
                            "## Speed up ~ 14x"
                        ]
                    },
                    "metadata": {}
                }
            ],
            "metadata": {}
        },
        {
            "cell_type": "code",
            "execution_count": 25,
            "source": [
                "stmt1 = \"s1A >= s1B\"\r\n",
                "stmt2 = \"s2A >= s2B\"\r\n",
                "compare(stmt1, stmt2, 1000, 1, create_stairs)"
            ],
            "outputs": [
                {
                    "output_type": "display_data",
                    "data": {
                        "text/plain": [
                            "<IPython.core.display.Markdown object>"
                        ],
                        "text/markdown": [
                            "## Speed up ~ 14x"
                        ]
                    },
                    "metadata": {}
                }
            ],
            "metadata": {}
        },
        {
            "cell_type": "code",
            "execution_count": 26,
            "source": [
                "stmt1 = \"s1A == s1B\"\r\n",
                "stmt2 = \"s2A == s2B\"\r\n",
                "compare(stmt1, stmt2, 1000, 1, create_stairs)"
            ],
            "outputs": [
                {
                    "output_type": "display_data",
                    "data": {
                        "text/plain": [
                            "<IPython.core.display.Markdown object>"
                        ],
                        "text/markdown": [
                            "## Speed up ~ 14x"
                        ]
                    },
                    "metadata": {}
                }
            ],
            "metadata": {}
        },
        {
            "cell_type": "code",
            "execution_count": 27,
            "source": [
                "stmt1 = \"s1A != s1B\"\r\n",
                "stmt2 = \"s2A != s2B\"\r\n",
                "compare(stmt1, stmt2, 1000, 1, create_stairs)"
            ],
            "outputs": [
                {
                    "output_type": "display_data",
                    "data": {
                        "text/plain": [
                            "<IPython.core.display.Markdown object>"
                        ],
                        "text/markdown": [
                            "## Speed up ~ 14x"
                        ]
                    },
                    "metadata": {}
                }
            ],
            "metadata": {}
        },
        {
            "cell_type": "markdown",
            "source": [
                "## Logical"
            ],
            "metadata": {}
        },
        {
            "cell_type": "code",
            "execution_count": 28,
            "source": [
                "stmt1 = \"s1A.make_boolean()\"\r\n",
                "stmt2 = \"s2A.make_boolean()\"\r\n",
                "compare(stmt1, stmt2, 900, 1, create_stairs)"
            ],
            "outputs": [
                {
                    "output_type": "display_data",
                    "data": {
                        "text/plain": [
                            "<IPython.core.display.Markdown object>"
                        ],
                        "text/markdown": [
                            "## Speed up ~ 16x"
                        ]
                    },
                    "metadata": {}
                }
            ],
            "metadata": {}
        },
        {
            "cell_type": "code",
            "execution_count": 29,
            "source": [
                "stmt1 = \"~s1A\"\r\n",
                "stmt2 = \"~s2A\"\r\n",
                "compare(stmt1, stmt2, 1000, 1, create_stairs)"
            ],
            "outputs": [
                {
                    "output_type": "display_data",
                    "data": {
                        "text/plain": [
                            "<IPython.core.display.Markdown object>"
                        ],
                        "text/markdown": [
                            "## Speed up ~ 16x"
                        ]
                    },
                    "metadata": {}
                }
            ],
            "metadata": {}
        },
        {
            "cell_type": "code",
            "execution_count": 30,
            "source": [
                "stmt1 = \"s1A & s1B\"\r\n",
                "stmt2 = \"s2A & s2B\"\r\n",
                "compare(stmt1, stmt2, 1000, 1, create_stairs)"
            ],
            "outputs": [
                {
                    "output_type": "display_data",
                    "data": {
                        "text/plain": [
                            "<IPython.core.display.Markdown object>"
                        ],
                        "text/markdown": [
                            "## Speed up ~ 16x"
                        ]
                    },
                    "metadata": {}
                }
            ],
            "metadata": {}
        },
        {
            "cell_type": "code",
            "execution_count": 31,
            "source": [
                "stmt1 = \"s1A | s1B\"\r\n",
                "stmt2 = \"s2A | s2B\"\r\n",
                "compare(stmt1, stmt2, 900, 1, create_stairs)"
            ],
            "outputs": [
                {
                    "output_type": "display_data",
                    "data": {
                        "text/plain": [
                            "<IPython.core.display.Markdown object>"
                        ],
                        "text/markdown": [
                            "## Speed up ~ 16x"
                        ]
                    },
                    "metadata": {}
                }
            ],
            "metadata": {}
        },
        {
            "cell_type": "markdown",
            "source": [
                "## Distribution"
            ],
            "metadata": {}
        },
        {
            "cell_type": "code",
            "execution_count": 32,
            "source": [
                "stmt1 = \"s1A.ecdf_stairs()\"\r\n",
                "stmt2 = \"s2A.ecdf\"\r\n",
                "compare(stmt1, stmt2, 1000, 1, create_stairs)"
            ],
            "outputs": [
                {
                    "output_type": "display_data",
                    "data": {
                        "text/plain": [
                            "<IPython.core.display.Markdown object>"
                        ],
                        "text/markdown": [
                            "## Speed up ~ 7.2x"
                        ]
                    },
                    "metadata": {}
                }
            ],
            "metadata": {}
        },
        {
            "cell_type": "code",
            "execution_count": 33,
            "source": [
                "stmt1 = \"s1A.percentile_stairs()\"\r\n",
                "stmt2 = \"s2A.percentile\"\r\n",
                "compare(stmt1, stmt2, 1000, 1, create_stairs)"
            ],
            "outputs": [
                {
                    "output_type": "display_data",
                    "data": {
                        "text/plain": [
                            "<IPython.core.display.Markdown object>"
                        ],
                        "text/markdown": [
                            "## Speed up ~ 5.1x"
                        ]
                    },
                    "metadata": {}
                }
            ],
            "metadata": {}
        },
        {
            "cell_type": "code",
            "execution_count": 34,
            "source": [
                "stmt1 = \"s1A.hist(bin_edges=bin_edges)\"\r\n",
                "stmt2 = \"s2A.hist(bins=bins)\"\r\n",
                "\r\n",
                "hist_setup = \"\"\"\r\n",
                "low, high = s2A.min(), s2A.max()+0.0001\r\n",
                "bins = pd.interval_range(low, high, 10, closed='left')\r\n",
                "bin_edges=np.linspace(low, high, 11)\r\n",
                "\"\"\"\r\n",
                "compare(stmt1, stmt2, 1000, 1, create_stairs+hist_setup)"
            ],
            "outputs": [
                {
                    "output_type": "display_data",
                    "data": {
                        "text/plain": [
                            "<IPython.core.display.Markdown object>"
                        ],
                        "text/markdown": [
                            "## Speed up ~ 8.2x"
                        ]
                    },
                    "metadata": {}
                }
            ],
            "metadata": {}
        },
        {
            "cell_type": "markdown",
            "source": [
                "## Array methods"
            ],
            "metadata": {}
        },
        {
            "cell_type": "code",
            "execution_count": 35,
            "source": [
                "create_arrays = \"\"\"\r\n",
                "use_dates=False\r\n",
                "dfs = [make_data(use_dates) for i in range(10)]\r\n",
                "s1array = [sc1.Stairs(use_dates=use_dates).layer(df['start'], df['end'], df['value']) for df in dfs]\r\n",
                "s2array = [sc2.Stairs().layer(df['start'], df['end'], df['value']) for df in dfs]\r\n",
                "\"\"\""
            ],
            "outputs": [],
            "metadata": {}
        },
        {
            "cell_type": "code",
            "execution_count": 36,
            "source": [
                "stmt1 = \"sc1.mean(s1array)\"\r\n",
                "stmt2 = \"sc2.mean(s2array)\"\r\n",
                "compare(stmt1, stmt2, 100, 1, create_arrays)"
            ],
            "outputs": [
                {
                    "output_type": "display_data",
                    "data": {
                        "text/plain": [
                            "<IPython.core.display.Markdown object>"
                        ],
                        "text/markdown": [
                            "## Speed up ~ 73x"
                        ]
                    },
                    "metadata": {}
                }
            ],
            "metadata": {}
        },
        {
            "cell_type": "code",
            "execution_count": 37,
            "source": [
                "stmt1 = \"sc1.median(s1array)\"\r\n",
                "stmt2 = \"sc2.median(s2array)\"\r\n",
                "compare(stmt1, stmt2, 100, 1, create_arrays)"
            ],
            "outputs": [
                {
                    "output_type": "display_data",
                    "data": {
                        "text/plain": [
                            "<IPython.core.display.Markdown object>"
                        ],
                        "text/markdown": [
                            "## Speed up ~ 65x"
                        ]
                    },
                    "metadata": {}
                }
            ],
            "metadata": {}
        },
        {
            "cell_type": "code",
            "execution_count": 38,
            "source": [
                "stmt1 = \"sc1.min(s1array)\"\r\n",
                "stmt2 = \"sc2.min(s2array)\"\r\n",
                "compare(stmt1, stmt2, 100, 1, create_arrays)"
            ],
            "outputs": [
                {
                    "output_type": "display_data",
                    "data": {
                        "text/plain": [
                            "<IPython.core.display.Markdown object>"
                        ],
                        "text/markdown": [
                            "## Speed up ~ 75x"
                        ]
                    },
                    "metadata": {}
                }
            ],
            "metadata": {}
        },
        {
            "cell_type": "code",
            "execution_count": 39,
            "source": [
                "stmt1 = \"sc1.max(s1array)\"\r\n",
                "stmt2 = \"sc2.max(s2array)\"\r\n",
                "compare(stmt1, stmt2, 100, 1, create_arrays)"
            ],
            "outputs": [
                {
                    "output_type": "display_data",
                    "data": {
                        "text/plain": [
                            "<IPython.core.display.Markdown object>"
                        ],
                        "text/markdown": [
                            "## Speed up ~ 75x"
                        ]
                    },
                    "metadata": {}
                }
            ],
            "metadata": {}
        },
        {
            "cell_type": "code",
            "execution_count": 40,
            "source": [
                "stmt1 = \"sc1.sample(s1array, x)\"\r\n",
                "stmt2 = \"sc2.sample(s2array, x)\"\r\n",
                "\r\n",
                "sample_setup = \"\"\"\r\n",
                "x = np.linspace(0,24*365,366)\r\n",
                "s1array = pd.Series(s1array)\r\n",
                "s2array = pd.Series(s2array)\r\n",
                "\"\"\"\r\n",
                "compare(stmt1, stmt2, 100, 1, create_arrays+sample_setup)"
            ],
            "outputs": [
                {
                    "output_type": "display_data",
                    "data": {
                        "text/plain": [
                            "<IPython.core.display.Markdown object>"
                        ],
                        "text/markdown": [
                            "## Speed up ~ 9.9x"
                        ]
                    },
                    "metadata": {}
                }
            ],
            "metadata": {}
        }
    ],
    "metadata": {
        "orig_nbformat": 4,
        "language_info": {
            "name": "python",
            "version": "3.9.0",
            "mimetype": "text/x-python",
            "codemirror_mode": {
                "name": "ipython",
                "version": 3
            },
            "pygments_lexer": "ipython3",
            "nbconvert_exporter": "python",
            "file_extension": ".py"
        },
        "kernelspec": {
            "name": "python3",
            "display_name": "Python 3.9.0 64-bit ('staircase-comp-4KepDKK5-py3.9': venv)"
        },
        "interpreter": {
            "hash": "5d520b1de9fd12b5719dee618043493c74bdfcf7baa0908abb6d9c04fef25a66"
        },
        "nbsphinx": {
            "execute": "never"
        }
    },
    "nbformat": 4,
    "nbformat_minor": 2
}